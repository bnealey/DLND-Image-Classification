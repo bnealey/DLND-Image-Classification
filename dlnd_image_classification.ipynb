{
 "cells": [
  {
   "cell_type": "markdown",
   "metadata": {
    "collapsed": true,
    "deletable": true,
    "editable": true
   },
   "source": [
    "# Image Classification\n",
    "In this project, you'll classify images from the [CIFAR-10 dataset](https://www.cs.toronto.edu/~kriz/cifar.html).  The dataset consists of airplanes, dogs, cats, and other objects. You'll preprocess the images, then train a convolutional neural network on all the samples. The images need to be normalized and the labels need to be one-hot encoded.  You'll get to apply what you learned and build a convolutional, max pooling, dropout, and fully connected layers.  At the end, you'll get to see your neural network's predictions on the sample images.\n",
    "## Get the Data\n",
    "Run the following cell to download the [CIFAR-10 dataset for python](https://www.cs.toronto.edu/~kriz/cifar-10-python.tar.gz)."
   ]
  },
  {
   "cell_type": "code",
   "execution_count": 20,
   "metadata": {
    "collapsed": false,
    "deletable": true,
    "editable": true
   },
   "outputs": [
    {
     "name": "stdout",
     "output_type": "stream",
     "text": [
      "All files found!\n"
     ]
    }
   ],
   "source": [
    "\"\"\"\n",
    "DON'T MODIFY ANYTHING IN THIS CELL THAT IS BELOW THIS LINE\n",
    "\"\"\"\n",
    "from urllib.request import urlretrieve\n",
    "from os.path import isfile, isdir\n",
    "from tqdm import tqdm\n",
    "import problem_unittests as tests\n",
    "import tarfile\n",
    "\n",
    "cifar10_dataset_folder_path = 'cifar-10-batches-py'\n",
    "\n",
    "class DLProgress(tqdm):\n",
    "    last_block = 0\n",
    "\n",
    "    def hook(self, block_num=1, block_size=1, total_size=None):\n",
    "        self.total = total_size\n",
    "        self.update((block_num - self.last_block) * block_size)\n",
    "        self.last_block = block_num\n",
    "\n",
    "if not isfile('cifar-10-python.tar.gz'):\n",
    "    with DLProgress(unit='B', unit_scale=True, miniters=1, desc='CIFAR-10 Dataset') as pbar:\n",
    "        urlretrieve(\n",
    "            'https://www.cs.toronto.edu/~kriz/cifar-10-python.tar.gz',\n",
    "            'cifar-10-python.tar.gz',\n",
    "            pbar.hook)\n",
    "\n",
    "if not isdir(cifar10_dataset_folder_path):\n",
    "    with tarfile.open('cifar-10-python.tar.gz') as tar:\n",
    "        tar.extractall()\n",
    "        tar.close()\n",
    "\n",
    "\n",
    "tests.test_folder_path(cifar10_dataset_folder_path)"
   ]
  },
  {
   "cell_type": "markdown",
   "metadata": {
    "deletable": true,
    "editable": true
   },
   "source": [
    "## Explore the Data\n",
    "The dataset is broken into batches to prevent your machine from running out of memory.  The CIFAR-10 dataset consists of 5 batches, named `data_batch_1`, `data_batch_2`, etc.. Each batch contains the labels and images that are one of the following:\n",
    "* airplane\n",
    "* automobile\n",
    "* bird\n",
    "* cat\n",
    "* deer\n",
    "* dog\n",
    "* frog\n",
    "* horse\n",
    "* ship\n",
    "* truck\n",
    "\n",
    "Understanding a dataset is part of making predictions on the data.  Play around with the code cell below by changing the `batch_id` and `sample_id`. The `batch_id` is the id for a batch (1-5). The `sample_id` is the id for a image and label pair in the batch.\n",
    "\n",
    "Ask yourself \"What are all possible labels?\", \"What is the range of values for the image data?\", \"Are the labels in order or random?\".  Answers to questions like these will help you preprocess the data and end up with better predictions."
   ]
  },
  {
   "cell_type": "code",
   "execution_count": 21,
   "metadata": {
    "collapsed": false,
    "deletable": true,
    "editable": true
   },
   "outputs": [
    {
     "name": "stdout",
     "output_type": "stream",
     "text": [
      "\n",
      "Stats of batch 5:\n",
      "Samples: 10000\n",
      "Label Counts: {0: 1014, 1: 1014, 2: 952, 3: 1016, 4: 997, 5: 1025, 6: 980, 7: 977, 8: 1003, 9: 1022}\n",
      "First 20 Labels: [1, 8, 5, 1, 5, 7, 4, 3, 8, 2, 7, 2, 0, 1, 5, 9, 6, 2, 0, 8]\n",
      "\n",
      "Example of Image 246:\n",
      "Image - Min Value: 18 Max Value: 255\n",
      "Image - Shape: (32, 32, 3)\n",
      "Label - Label Id: 3 Name: cat\n"
     ]
    },
    {
     "data": {
      "image/png": "[encoded data removed]",
      "text/plain": [
       "<matplotlib.figure.Figure at 0x7f70a0201358>"
      ]
     },
     "metadata": {
      "image/png": {
       "height": 250,
       "width": 253
      }
     },
     "output_type": "display_data"
    }
   ],
   "source": [
    "%matplotlib inline\n",
    "%config InlineBackend.figure_format = 'retina'\n",
    "\n",
    "import helper\n",
    "import numpy as np\n",
    "\n",
    "# Explore the dataset\n",
    "batch_id = 5\n",
    "sample_id = 246\n",
    "helper.display_stats(cifar10_dataset_folder_path, batch_id, sample_id)"
   ]
  },
  {
   "cell_type": "markdown",
   "metadata": {
    "deletable": true,
    "editable": true
   },
   "source": [
    "## Implement Preprocess Functions\n",
    "### Normalize\n",
    "In the cell below, implement the `normalize` function to take in image data, `x`, and return it as a normalized Numpy array. The values should be in the range of 0 to 1, inclusive.  The return object should be the same shape as `x`."
   ]
  },
  {
   "cell_type": "code",
   "execution_count": 22,
   "metadata": {
    "collapsed": false,
    "deletable": true,
    "editable": true
   },
   "outputs": [
    {
     "name": "stdout",
     "output_type": "stream",
     "text": [
      "Tests Passed\n"
     ]
    }
   ],
   "source": [
    "def normalize(x):\n",
    "\n",
    "    a = 0\n",
    "    b = 1\n",
    "    grayscale_min = 0\n",
    "    grayscale_max = 255\n",
    "    return a + (((x - grayscale_min)*(b - a))/(grayscale_max - grayscale_min))\n",
    "\n",
    "\"\"\"\n",
    "DON'T MODIFY ANYTHING IN THIS CELL THAT IS BELOW THIS LINE\n",
    "\"\"\"\n",
    "tests.test_normalize(normalize)"
   ]
  },
  {
   "cell_type": "markdown",
   "metadata": {
    "deletable": true,
    "editable": true
   },
   "source": [
    "### One-hot encode\n",
    "Just like the previous code cell, you'll be implementing a function for preprocessing.  This time, you'll implement the `one_hot_encode` function. The input, `x`, are a list of labels.  Implement the function to return the list of labels as One-Hot encoded Numpy array.  The possible values for labels are 0 to 9. The one-hot encoding function should return the same encoding for each value between each call to `one_hot_encode`.  Make sure to save the map of encodings outside the function.\n",
    "\n",
    "Hint: Don't reinvent the wheel."
   ]
  },
  {
   "cell_type": "code",
   "execution_count": 23,
   "metadata": {
    "collapsed": false,
    "deletable": true,
    "editable": true
   },
   "outputs": [
    {
     "name": "stdout",
     "output_type": "stream",
     "text": [
      "Tests Passed\n"
     ]
    }
   ],
   "source": [
    "from sklearn.preprocessing import LabelBinarizer\n",
    "\n",
    "\n",
    "\n",
    "def one_hot_encode(x):\n",
    "    \n",
    "    encoder = LabelBinarizer()\n",
    "    encoder.fit(list(range(0, 10)))\n",
    "    return encoder.transform(x)\n",
    "\n",
    "\n",
    "\"\"\"\n",
    "DON'T MODIFY ANYTHING IN THIS CELL THAT IS BELOW THIS LINE\n",
    "\"\"\"\n",
    "tests.test_one_hot_encode(one_hot_encode)"
   ]
  },
  {
   "cell_type": "markdown",
   "metadata": {
    "deletable": true,
    "editable": true
   },
   "source": [
    "### Randomize Data\n",
    "As you saw from exploring the data above, the order of the samples are randomized.  It doesn't hurt to randomize it again, but you don't need to for this dataset."
   ]
  },
  {
   "cell_type": "markdown",
   "metadata": {
    "deletable": true,
    "editable": true
   },
   "source": [
    "## Preprocess all the data and save it\n",
    "Running the code cell below will preprocess all the CIFAR-10 data and save it to file. The code below also uses 10% of the training data for validation."
   ]
  },
  {
   "cell_type": "code",
   "execution_count": 24,
   "metadata": {
    "collapsed": false,
    "deletable": true,
    "editable": true
   },
   "outputs": [],
   "source": [
    "\"\"\"\n",
    "DON'T MODIFY ANYTHING IN THIS CELL\n",
    "\"\"\"\n",
    "# Preprocess Training, Validation, and Testing Data\n",
    "helper.preprocess_and_save_data(cifar10_dataset_folder_path, normalize, one_hot_encode)"
   ]
  },
  {
   "cell_type": "markdown",
   "metadata": {
    "deletable": true,
    "editable": true
   },
   "source": [
    "# Check Point\n",
    "This is your first checkpoint.  If you ever decide to come back to this notebook or have to restart the notebook, you can start from here.  The preprocessed data has been saved to disk."
   ]
  },
  {
   "cell_type": "code",
   "execution_count": 25,
   "metadata": {
    "collapsed": true,
    "deletable": true,
    "editable": true
   },
   "outputs": [],
   "source": [
    "\"\"\"\n",
    "DON'T MODIFY ANYTHING IN THIS CELL\n",
    "\"\"\"\n",
    "import pickle\n",
    "import problem_unittests as tests\n",
    "import helper\n",
    "\n",
    "# Load the Preprocessed Validation data\n",
    "valid_features, valid_labels = pickle.load(open('preprocess_validation.p', mode='rb'))"
   ]
  },
  {
   "cell_type": "markdown",
   "metadata": {
    "deletable": true,
    "editable": true
   },
   "source": [
    "## Build the network\n",
    "For the neural network, you'll build each layer into a function.  Most of the code you've seen has been outside of functions. To test your code more thoroughly, we require that you put each layer in a function.  This allows us to give you better feedback and test for simple mistakes using our unittests before you submit your project.\n",
    "\n",
    ">**Note:** If you're finding it hard to dedicate enough time for this course each week, we've provided a small shortcut to this part of the project. In the next couple of problems, you'll have the option to use classes from the [TensorFlow Layers](https://www.tensorflow.org/api_docs/python/tf/layers) or [TensorFlow Layers (contrib)](https://www.tensorflow.org/api_guides/python/contrib.layers) packages to build each layer, except the layers you build in the \"Convolutional and Max Pooling Layer\" section.  TF Layers is similar to Keras's and TFLearn's abstraction to layers, so it's easy to pickup.\n",
    "\n",
    ">However, if you would like to get the most out of this course, try to solve all the problems _without_ using anything from the TF Layers packages. You **can** still use classes from other packages that happen to have the same name as ones you find in TF Layers! For example, instead of using the TF Layers version of the `conv2d` class, [tf.layers.conv2d](https://www.tensorflow.org/api_docs/python/tf/layers/conv2d), you would want to use the TF Neural Network version of `conv2d`, [tf.nn.conv2d](https://www.tensorflow.org/api_docs/python/tf/nn/conv2d). \n",
    "\n",
    "Let's begin!\n",
    "\n",
    "### Input\n",
    "The neural network needs to read the image data, one-hot encoded labels, and dropout keep probability. Implement the following functions\n",
    "* Implement `neural_net_image_input`\n",
    " * Return a [TF Placeholder](https://www.tensorflow.org/api_docs/python/tf/placeholder)\n",
    " * Set the shape using `image_shape` with batch size set to `None`.\n",
    " * Name the TensorFlow placeholder \"x\" using the TensorFlow `name` parameter in the [TF Placeholder](https://www.tensorflow.org/api_docs/python/tf/placeholder).\n",
    "* Implement `neural_net_label_input`\n",
    " * Return a [TF Placeholder](https://www.tensorflow.org/api_docs/python/tf/placeholder)\n",
    " * Set the shape using `n_classes` with batch size set to `None`.\n",
    " * Name the TensorFlow placeholder \"y\" using the TensorFlow `name` parameter in the [TF Placeholder](https://www.tensorflow.org/api_docs/python/tf/placeholder).\n",
    "* Implement `neural_net_keep_prob_input`\n",
    " * Return a [TF Placeholder](https://www.tensorflow.org/api_docs/python/tf/placeholder) for dropout keep probability.\n",
    " * Name the TensorFlow placeholder \"keep_prob\" using the TensorFlow `name` parameter in the [TF Placeholder](https://www.tensorflow.org/api_docs/python/tf/placeholder).\n",
    "\n",
    "These names will be used at the end of the project to load your saved model.\n",
    "\n",
    "Note: `None` for shapes in TensorFlow allow for a dynamic size."
   ]
  },
  {
   "cell_type": "code",
   "execution_count": 26,
   "metadata": {
    "collapsed": false,
    "deletable": true,
    "editable": true
   },
   "outputs": [
    {
     "name": "stdout",
     "output_type": "stream",
     "text": [
      "Image Input Tests Passed.\n",
      "Label Input Tests Passed.\n",
      "Keep Prob Tests Passed.\n"
     ]
    }
   ],
   "source": [
    "import tensorflow as tf\n",
    "\n",
    "def neural_net_image_input(image_shape):\n",
    "    \"\"\"\n",
    "    Return a Tensor for a bach of image input\n",
    "    : image_shape: Shape of the images\n",
    "    : return: Tensor for image input.\n",
    "    \"\"\"\n",
    "    # TODO: Implement Function\n",
    "    return tf.placeholder(tf.float32, (None, *image_shape), name='x')\n",
    "\n",
    "\n",
    "def neural_net_label_input(n_classes):\n",
    "    \"\"\"\n",
    "    Return a Tensor for a batch of label input\n",
    "    : n_classes: Number of classes\n",
    "    : return: Tensor for label input.\n",
    "    \"\"\"\n",
    "    # TODO: Implement Function\n",
    "    return tf.placeholder(tf.float32, (None, n_classes), name='y')\n",
    "\n",
    "\n",
    "def neural_net_keep_prob_input():\n",
    "    \"\"\"\n",
    "    Return a Tensor for keep probability\n",
    "    : return: Tensor for keep probability.\n",
    "    \"\"\"\n",
    "    # TODO: Implement Function\n",
    "    return tf.placeholder(tf.float32, name='keep_prob')\n",
    "\n",
    "\n",
    "\"\"\"\n",
    "DON'T MODIFY ANYTHING IN THIS CELL THAT IS BELOW THIS LINE\n",
    "\"\"\"\n",
    "tf.reset_default_graph()\n",
    "tests.test_nn_image_inputs(neural_net_image_input)\n",
    "tests.test_nn_label_inputs(neural_net_label_input)\n",
    "tests.test_nn_keep_prob_inputs(neural_net_keep_prob_input)"
   ]
  },
  {
   "cell_type": "markdown",
   "metadata": {
    "deletable": true,
    "editable": true
   },
   "source": [
    "### Convolution and Max Pooling Layer\n",
    "Convolution layers have a lot of success with images. For this code cell, you should implement the function `conv2d_maxpool` to apply convolution then max pooling:\n",
    "* Create the weight and bias using `conv_ksize`, `conv_num_outputs` and the shape of `x_tensor`.\n",
    "* Apply a convolution to `x_tensor` using weight and `conv_strides`.\n",
    " * We recommend you use same padding, but you're welcome to use any padding.\n",
    "* Add bias\n",
    "* Add a nonlinear activation to the convolution.\n",
    "* Apply Max Pooling using `pool_ksize` and `pool_strides`.\n",
    " * We recommend you use same padding, but you're welcome to use any padding.\n",
    "\n",
    "**Note:** You **can't** use [TensorFlow Layers](https://www.tensorflow.org/api_docs/python/tf/layers) or [TensorFlow Layers (contrib)](https://www.tensorflow.org/api_guides/python/contrib.layers) for **this** layer, but you can still use TensorFlow's [Neural Network](https://www.tensorflow.org/api_docs/python/tf/nn) package. You may still use the shortcut option for all the **other** layers."
   ]
  },
  {
   "cell_type": "code",
   "execution_count": 27,
   "metadata": {
    "collapsed": false,
    "deletable": true,
    "editable": true
   },
   "outputs": [
    {
     "name": "stdout",
     "output_type": "stream",
     "text": [
      "Tests Passed\n"
     ]
    }
   ],
   "source": [
    "def conv2d_maxpool(x_tensor, conv_num_outputs, conv_ksize, conv_strides, pool_ksize, pool_strides):\n",
    "  \n",
    "    weight = tf.Variable(tf.truncated_normal([*conv_ksize, x_tensor.get_shape().as_list()[3], conv_num_outputs], stddev=0.05,))\n",
    "    \n",
    "    bias = tf.Variable(tf.zeros(conv_num_outputs))\n",
    "    \n",
    "    output = tf.nn.conv2d(x_tensor, weight, strides=[1, *conv_strides, 1], padding='SAME')\n",
    "    output = tf.nn.bias_add(output, bias)\n",
    "    output = tf.nn.relu(output)\n",
    "    output = tf.nn.max_pool(output, ksize=[1, *pool_ksize, 1], strides=[1, *pool_strides, 1], padding='SAME')\n",
    "\n",
    "    return output\n",
    "\n",
    "\"\"\"\n",
    "DON'T MODIFY ANYTHING IN THIS CELL THAT IS BELOW THIS LINE\n",
    "\"\"\"\n",
    "tests.test_con_pool(conv2d_maxpool)"
   ]
  },
  {
   "cell_type": "markdown",
   "metadata": {
    "deletable": true,
    "editable": true
   },
   "source": [
    "### Flatten Layer\n",
    "Implement the `flatten` function to change the dimension of `x_tensor` from a 4-D tensor to a 2-D tensor.  The output should be the shape (*Batch Size*, *Flattened Image Size*). Shortcut option: you can use classes from the [TensorFlow Layers](https://www.tensorflow.org/api_docs/python/tf/layers) or [TensorFlow Layers (contrib)](https://www.tensorflow.org/api_guides/python/contrib.layers) packages for this layer. For more of a challenge, only use other TensorFlow packages."
   ]
  },
  {
   "cell_type": "code",
   "execution_count": 28,
   "metadata": {
    "collapsed": false,
    "deletable": true,
    "editable": true
   },
   "outputs": [
    {
     "name": "stdout",
     "output_type": "stream",
     "text": [
      "Tests Passed\n"
     ]
    }
   ],
   "source": [
    "def flatten(x_tensor):\n",
    "\n",
    "    return tf.contrib.layers.flatten(x_tensor)\n",
    "\n",
    "\"\"\"\n",
    "DON'T MODIFY ANYTHING IN THIS CELL THAT IS BELOW THIS LINE\n",
    "\"\"\"\n",
    "tests.test_flatten(flatten)"
   ]
  },
  {
   "cell_type": "markdown",
   "metadata": {
    "deletable": true,
    "editable": true
   },
   "source": [
    "### Fully-Connected Layer\n",
    "Implement the `fully_conn` function to apply a fully connected layer to `x_tensor` with the shape (*Batch Size*, *num_outputs*). Shortcut option: you can use classes from the [TensorFlow Layers](https://www.tensorflow.org/api_docs/python/tf/layers) or [TensorFlow Layers (contrib)](https://www.tensorflow.org/api_guides/python/contrib.layers) packages for this layer. For more of a challenge, only use other TensorFlow packages."
   ]
  },
  {
   "cell_type": "code",
   "execution_count": 29,
   "metadata": {
    "collapsed": false,
    "deletable": true,
    "editable": true
   },
   "outputs": [
    {
     "name": "stdout",
     "output_type": "stream",
     "text": [
      "Tests Passed\n"
     ]
    }
   ],
   "source": [
    "def fully_conn(x_tensor, num_outputs):\n",
    "\n",
    "    return tf.contrib.layers.fully_connected(inputs = x_tensor, num_outputs = num_outputs)\n",
    "\n",
    "\"\"\"\n",
    "DON'T MODIFY ANYTHING IN THIS CELL THAT IS BELOW THIS LINE\n",
    "\"\"\"\n",
    "tests.test_fully_conn(fully_conn)"
   ]
  },
  {
   "cell_type": "markdown",
   "metadata": {
    "deletable": true,
    "editable": true
   },
   "source": [
    "### Output Layer\n",
    "Implement the `output` function to apply a fully connected layer to `x_tensor` with the shape (*Batch Size*, *num_outputs*). Shortcut option: you can use classes from the [TensorFlow Layers](https://www.tensorflow.org/api_docs/python/tf/layers) or [TensorFlow Layers (contrib)](https://www.tensorflow.org/api_guides/python/contrib.layers) packages for this layer. For more of a challenge, only use other TensorFlow packages.\n",
    "\n",
    "**Note:** Activation, softmax, or cross entropy should **not** be applied to this."
   ]
  },
  {
   "cell_type": "code",
   "execution_count": 30,
   "metadata": {
    "collapsed": false,
    "deletable": true,
    "editable": true
   },
   "outputs": [
    {
     "name": "stdout",
     "output_type": "stream",
     "text": [
      "Tests Passed\n"
     ]
    }
   ],
   "source": [
    "def output(x_tensor, num_outputs):\n",
    "\n",
    "    return tf.contrib.layers.fully_connected(inputs = x_tensor, num_outputs = num_outputs, activation_fn = None)\n",
    "\n",
    "\n",
    "\"\"\"\n",
    "DON'T MODIFY ANYTHING IN THIS CELL THAT IS BELOW THIS LINE\n",
    "\"\"\"\n",
    "tests.test_output(output)"
   ]
  },
  {
   "cell_type": "markdown",
   "metadata": {
    "deletable": true,
    "editable": true
   },
   "source": [
    "### Create Convolutional Model\n",
    "Implement the function `conv_net` to create a convolutional neural network model. The function takes in a batch of images, `x`, and outputs logits.  Use the layers you created above to create this model:\n",
    "\n",
    "* Apply 1, 2, or 3 Convolution and Max Pool layers\n",
    "* Apply a Flatten Layer\n",
    "* Apply 1, 2, or 3 Fully Connected Layers\n",
    "* Apply an Output Layer\n",
    "* Return the output\n",
    "* Apply [TensorFlow's Dropout](https://www.tensorflow.org/api_docs/python/tf/nn/dropout) to one or more layers in the model using `keep_prob`. "
   ]
  },
  {
   "cell_type": "code",
   "execution_count": 31,
   "metadata": {
    "collapsed": false,
    "deletable": true,
    "editable": true
   },
   "outputs": [
    {
     "name": "stdout",
     "output_type": "stream",
     "text": [
      "Neural Network Built!\n"
     ]
    }
   ],
   "source": [
    "def conv_net(x, keep_prob):\n",
    "\n",
    "    convmpl = conv2d_maxpool(x,\n",
    "                             conv_num_outputs=64,\n",
    "                             conv_ksize=[3,3],\n",
    "                             conv_strides=[1,1],\n",
    "                             pool_ksize=[2,2],\n",
    "                             pool_strides=[2,2])\n",
    "    \n",
    "    convmpl2 = conv2d_maxpool(convmpl, \n",
    "                              conv_num_outputs=64, \n",
    "                              conv_ksize=[3,3], \n",
    "                              conv_strides=[1,1], \n",
    "                              pool_ksize=[2,2], \n",
    "                              pool_strides=[2,2])\n",
    "    \n",
    "    convmpl3 = conv2d_maxpool(convmpl2, \n",
    "                              conv_num_outputs=128, \n",
    "                              conv_ksize=[3,3], \n",
    "                              conv_strides=[1,1], \n",
    "                              pool_ksize=[2,2], \n",
    "                              pool_strides=[2,2])\n",
    "\n",
    "    fll = flatten(convmpl3)\n",
    "\n",
    "    fcl1 = fully_conn(fll, 128)\n",
    "    \n",
    "    # Dropout\n",
    "    fcl1 = tf.nn.dropout(fcl1, keep_prob)\n",
    "    \n",
    "    fcl2 = fully_conn(fcl1, 64)\n",
    "        \n",
    "    return output(fcl2, 10)\n",
    "\n",
    "\n",
    "\"\"\"\n",
    "DON'T MODIFY ANYTHING IN THIS CELL THAT IS BELOW THIS LINE\n",
    "\"\"\"\n",
    "\n",
    "##############################\n",
    "## Build the Neural Network ##\n",
    "##############################\n",
    "\n",
    "# Remove previous weights, bias, inputs, etc..\n",
    "tf.reset_default_graph()\n",
    "\n",
    "# Inputs\n",
    "x = neural_net_image_input((32, 32, 3))\n",
    "y = neural_net_label_input(10)\n",
    "keep_prob = neural_net_keep_prob_input()\n",
    "\n",
    "# Model\n",
    "logits = conv_net(x, keep_prob)\n",
    "\n",
    "# Name logits Tensor, so that is can be loaded from disk after training\n",
    "logits = tf.identity(logits, name='logits')\n",
    "\n",
    "# Loss and Optimizer\n",
    "cost = tf.reduce_mean(tf.nn.softmax_cross_entropy_with_logits(logits=logits, labels=y))\n",
    "optimizer = tf.train.AdamOptimizer().minimize(cost)\n",
    "\n",
    "# Accuracy\n",
    "correct_pred = tf.equal(tf.argmax(logits, 1), tf.argmax(y, 1))\n",
    "accuracy = tf.reduce_mean(tf.cast(correct_pred, tf.float32), name='accuracy')\n",
    "\n",
    "tests.test_conv_net(conv_net)"
   ]
  },
  {
   "cell_type": "markdown",
   "metadata": {
    "deletable": true,
    "editable": true
   },
   "source": [
    "## Train the Neural Network\n",
    "### Single Optimization\n",
    "Implement the function `train_neural_network` to do a single optimization.  The optimization should use `optimizer` to optimize in `session` with a `feed_dict` of the following:\n",
    "* `x` for image input\n",
    "* `y` for labels\n",
    "* `keep_prob` for keep probability for dropout\n",
    "\n",
    "This function will be called for each batch, so `tf.global_variables_initializer()` has already been called.\n",
    "\n",
    "Note: Nothing needs to be returned. This function is only optimizing the neural network."
   ]
  },
  {
   "cell_type": "code",
   "execution_count": 32,
   "metadata": {
    "collapsed": false,
    "deletable": true,
    "editable": true
   },
   "outputs": [
    {
     "name": "stdout",
     "output_type": "stream",
     "text": [
      "Tests Passed\n"
     ]
    }
   ],
   "source": [
    "def train_neural_network(session, optimizer, keep_probability, feature_batch, label_batch):\n",
    "    \"\"\"\n",
    "    Optimize the session on a batch of images and labels\n",
    "    : session: Current TensorFlow session\n",
    "    : optimizer: TensorFlow optimizer function\n",
    "    : keep_probability: keep probability\n",
    "    : feature_batch: Batch of Numpy image data\n",
    "    : label_batch: Batch of Numpy label data\n",
    "    \"\"\"\n",
    "    # TODO: Implement Function\n",
    "    session.run(optimizer, feed_dict={x: feature_batch, y: label_batch, keep_prob: keep_probability})\n",
    "\n",
    "\n",
    "\"\"\"\n",
    "DON'T MODIFY ANYTHING IN THIS CELL THAT IS BELOW THIS LINE\n",
    "\"\"\"\n",
    "tests.test_train_nn(train_neural_network)"
   ]
  },
  {
   "cell_type": "markdown",
   "metadata": {
    "deletable": true,
    "editable": true
   },
   "source": [
    "### Show Stats\n",
    "Implement the function `print_stats` to print loss and validation accuracy.  Use the global variables `valid_features` and `valid_labels` to calculate validation accuracy.  Use a keep probability of `1.0` to calculate the loss and validation accuracy."
   ]
  },
  {
   "cell_type": "code",
   "execution_count": 54,
   "metadata": {
    "collapsed": false,
    "deletable": true,
    "editable": true
   },
   "outputs": [],
   "source": [
    "def print_stats(session, feature_batch, label_batch, cost, accuracy):\n",
    "    \"\"\"\n",
    "    Print information about loss and validation accuracy\n",
    "    : session: Current TensorFlow session\n",
    "    : feature_batch: Batch of Numpy image data\n",
    "    : label_batch: Batch of Numpy label data\n",
    "    : cost: TensorFlow cost function\n",
    "    : accuracy: TensorFlow accuracy function\n",
    "    \"\"\"\n",
    "    # TODO: Implement Function\n",
    "    loss = session.run(cost, feed_dict={\n",
    "                x: feature_batch,\n",
    "                y: label_batch,\n",
    "                keep_prob: 1.0})\n",
    "    valid_acc = sess.run(accuracy, feed_dict={\n",
    "                x: valid_features,\n",
    "                y: valid_labels,\n",
    "                keep_prob: 1.0})\n",
    "\n",
    "    print('Loss: {:f} Validation Accuracy: {:f}'.format(\n",
    "                loss,\n",
    "                valid_acc))\n"
   ]
  },
  {
   "cell_type": "markdown",
   "metadata": {
    "deletable": true,
    "editable": true
   },
   "source": [
    "### Hyperparameters\n",
    "Tune the following parameters:\n",
    "* Set `epochs` to the number of iterations until the network stops learning or start overfitting\n",
    "* Set `batch_size` to the highest number that your machine has memory for.  Most people set them to common sizes of memory:\n",
    " * 64\n",
    " * 128\n",
    " * 256\n",
    " * ...\n",
    "* Set `keep_probability` to the probability of keeping a node using dropout"
   ]
  },
  {
   "cell_type": "code",
   "execution_count": 58,
   "metadata": {
    "collapsed": true,
    "deletable": true,
    "editable": true
   },
   "outputs": [],
   "source": [
    "# TODO: Tune Parameters\n",
    "epochs = 50\n",
    "batch_size = 1024\n",
    "keep_probability = .55"
   ]
  },
  {
   "cell_type": "markdown",
   "metadata": {
    "deletable": true,
    "editable": true
   },
   "source": [
    "### Train on a Single CIFAR-10 Batch\n",
    "Instead of training the neural network on all the CIFAR-10 batches of data, let's use a single batch. This should save time while you iterate on the model to get a better accuracy.  Once the final validation accuracy is 50% or greater, run the model on all the data in the next section."
   ]
  },
  {
   "cell_type": "code",
   "execution_count": 59,
   "metadata": {
    "collapsed": false,
    "deletable": true,
    "editable": true
   },
   "outputs": [
    {
     "name": "stdout",
     "output_type": "stream",
     "text": [
      "Checking the Training on a Single Batch...\n",
      "Epoch  1, CIFAR-10 Batch 1:  Loss: 2.205502 Validation Accuracy: 0.183000\n",
      "Epoch  2, CIFAR-10 Batch 1:  Loss: 2.098117 Validation Accuracy: 0.232600\n",
      "Epoch  3, CIFAR-10 Batch 1:  Loss: 1.990636 Validation Accuracy: 0.301800\n",
      "Epoch  4, CIFAR-10 Batch 1:  Loss: 1.815670 Validation Accuracy: 0.350800\n",
      "Epoch  5, CIFAR-10 Batch 1:  Loss: 1.745197 Validation Accuracy: 0.369200\n",
      "Epoch  6, CIFAR-10 Batch 1:  Loss: 1.684092 Validation Accuracy: 0.386200\n",
      "Epoch  7, CIFAR-10 Batch 1:  Loss: 1.597653 Validation Accuracy: 0.419400\n",
      "Epoch  8, CIFAR-10 Batch 1:  Loss: 1.555182 Validation Accuracy: 0.432600\n",
      "Epoch  9, CIFAR-10 Batch 1:  Loss: 1.505253 Validation Accuracy: 0.440000\n",
      "Epoch 10, CIFAR-10 Batch 1:  Loss: 1.489261 Validation Accuracy: 0.441600\n",
      "Epoch 11, CIFAR-10 Batch 1:  Loss: 1.488822 Validation Accuracy: 0.448800\n",
      "Epoch 12, CIFAR-10 Batch 1:  Loss: 1.392867 Validation Accuracy: 0.477800\n",
      "Epoch 13, CIFAR-10 Batch 1:  Loss: 1.364708 Validation Accuracy: 0.476600\n",
      "Epoch 14, CIFAR-10 Batch 1:  Loss: 1.354417 Validation Accuracy: 0.474600\n",
      "Epoch 15, CIFAR-10 Batch 1:  Loss: 1.306687 Validation Accuracy: 0.493800\n",
      "Epoch 16, CIFAR-10 Batch 1:  Loss: 1.263588 Validation Accuracy: 0.506200\n",
      "Epoch 17, CIFAR-10 Batch 1:  Loss: 1.238165 Validation Accuracy: 0.511200\n",
      "Epoch 18, CIFAR-10 Batch 1:  Loss: 1.226328 Validation Accuracy: 0.511000\n",
      "Epoch 19, CIFAR-10 Batch 1:  Loss: 1.245020 Validation Accuracy: 0.497600\n",
      "Epoch 20, CIFAR-10 Batch 1:  Loss: 1.233128 Validation Accuracy: 0.503000\n",
      "Epoch 21, CIFAR-10 Batch 1:  Loss: 1.172329 Validation Accuracy: 0.522600\n",
      "Epoch 22, CIFAR-10 Batch 1:  Loss: 1.169910 Validation Accuracy: 0.519200\n",
      "Epoch 23, CIFAR-10 Batch 1:  Loss: 1.142668 Validation Accuracy: 0.520200\n",
      "Epoch 24, CIFAR-10 Batch 1:  Loss: 1.101030 Validation Accuracy: 0.544000\n",
      "Epoch 25, CIFAR-10 Batch 1:  Loss: 1.053184 Validation Accuracy: 0.549800\n",
      "Epoch 26, CIFAR-10 Batch 1:  Loss: 1.060226 Validation Accuracy: 0.551000\n",
      "Epoch 27, CIFAR-10 Batch 1:  Loss: 1.042584 Validation Accuracy: 0.544400\n",
      "Epoch 28, CIFAR-10 Batch 1:  Loss: 1.007449 Validation Accuracy: 0.547200\n",
      "Epoch 29, CIFAR-10 Batch 1:  Loss: 1.052769 Validation Accuracy: 0.544200\n",
      "Epoch 30, CIFAR-10 Batch 1:  Loss: 1.021835 Validation Accuracy: 0.555000\n",
      "Epoch 31, CIFAR-10 Batch 1:  Loss: 0.956710 Validation Accuracy: 0.570600\n",
      "Epoch 32, CIFAR-10 Batch 1:  Loss: 0.926445 Validation Accuracy: 0.580000\n",
      "Epoch 33, CIFAR-10 Batch 1:  Loss: 0.917423 Validation Accuracy: 0.568000\n",
      "Epoch 34, CIFAR-10 Batch 1:  Loss: 0.899150 Validation Accuracy: 0.569000\n",
      "Epoch 35, CIFAR-10 Batch 1:  Loss: 0.887739 Validation Accuracy: 0.581000\n",
      "Epoch 36, CIFAR-10 Batch 1:  Loss: 0.936516 Validation Accuracy: 0.576200\n",
      "Epoch 37, CIFAR-10 Batch 1:  Loss: 0.932078 Validation Accuracy: 0.556600\n",
      "Epoch 38, CIFAR-10 Batch 1:  Loss: 0.880186 Validation Accuracy: 0.583000\n",
      "Epoch 39, CIFAR-10 Batch 1:  Loss: 0.886226 Validation Accuracy: 0.565600\n",
      "Epoch 40, CIFAR-10 Batch 1:  Loss: 0.812831 Validation Accuracy: 0.590800\n",
      "Epoch 41, CIFAR-10 Batch 1:  Loss: 0.799892 Validation Accuracy: 0.586000\n",
      "Epoch 42, CIFAR-10 Batch 1:  Loss: 0.835175 Validation Accuracy: 0.584400\n",
      "Epoch 43, CIFAR-10 Batch 1:  Loss: 0.748700 Validation Accuracy: 0.600400\n",
      "Epoch 44, CIFAR-10 Batch 1:  Loss: 0.748127 Validation Accuracy: 0.592600\n",
      "Epoch 45, CIFAR-10 Batch 1:  Loss: 0.720494 Validation Accuracy: 0.595600\n",
      "Epoch 46, CIFAR-10 Batch 1:  Loss: 0.679125 Validation Accuracy: 0.608600\n",
      "Epoch 47, CIFAR-10 Batch 1:  Loss: 0.666929 Validation Accuracy: 0.613800\n",
      "Epoch 48, CIFAR-10 Batch 1:  Loss: 0.693745 Validation Accuracy: 0.599000\n",
      "Epoch 49, CIFAR-10 Batch 1:  Loss: 0.641754 Validation Accuracy: 0.604000\n",
      "Epoch 50, CIFAR-10 Batch 1:  Loss: 0.607201 Validation Accuracy: 0.620000\n"
     ]
    }
   ],
   "source": [
    "\"\"\"\n",
    "DON'T MODIFY ANYTHING IN THIS CELL\n",
    "\"\"\"\n",
    "print('Checking the Training on a Single Batch...')\n",
    "with tf.Session() as sess:\n",
    "    # Initializing the variables\n",
    "    sess.run(tf.global_variables_initializer())\n",
    "    \n",
    "    # Training cycle\n",
    "    for epoch in range(epochs):\n",
    "        batch_i = 1\n",
    "        for batch_features, batch_labels in helper.load_preprocess_training_batch(batch_i, batch_size):\n",
    "            train_neural_network(sess, optimizer, keep_probability, batch_features, batch_labels)\n",
    "        print('Epoch {:>2}, CIFAR-10 Batch {}:  '.format(epoch + 1, batch_i), end='')\n",
    "        print_stats(sess, batch_features, batch_labels, cost, accuracy)"
   ]
  },
  {
   "cell_type": "markdown",
   "metadata": {
    "deletable": true,
    "editable": true
   },
   "source": [
    "### Fully Train the Model\n",
    "Now that you got a good accuracy with a single CIFAR-10 batch, try it with all five batches."
   ]
  },
  {
   "cell_type": "code",
   "execution_count": 60,
   "metadata": {
    "collapsed": false,
    "deletable": true,
    "editable": true
   },
   "outputs": [
    {
     "name": "stdout",
     "output_type": "stream",
     "text": [
      "Training...\n",
      "Epoch  1, CIFAR-10 Batch 1:  Loss: 2.198874 Validation Accuracy: 0.215400\n",
      "Epoch  1, CIFAR-10 Batch 2:  Loss: 2.011553 Validation Accuracy: 0.279800\n",
      "Epoch  1, CIFAR-10 Batch 3:  Loss: 1.897860 Validation Accuracy: 0.279800\n",
      "Epoch  1, CIFAR-10 Batch 4:  Loss: 1.816083 Validation Accuracy: 0.320200\n",
      "Epoch  1, CIFAR-10 Batch 5:  Loss: 1.774744 Validation Accuracy: 0.370400\n",
      "Epoch  2, CIFAR-10 Batch 1:  Loss: 1.745213 Validation Accuracy: 0.353800\n",
      "Epoch  2, CIFAR-10 Batch 2:  Loss: 1.687379 Validation Accuracy: 0.392000\n",
      "Epoch  2, CIFAR-10 Batch 3:  Loss: 1.538336 Validation Accuracy: 0.412800\n",
      "Epoch  2, CIFAR-10 Batch 4:  Loss: 1.565127 Validation Accuracy: 0.421200\n",
      "Epoch  2, CIFAR-10 Batch 5:  Loss: 1.527408 Validation Accuracy: 0.444800\n",
      "Epoch  3, CIFAR-10 Batch 1:  Loss: 1.492141 Validation Accuracy: 0.450600\n",
      "Epoch  3, CIFAR-10 Batch 2:  Loss: 1.509812 Validation Accuracy: 0.459600\n",
      "Epoch  3, CIFAR-10 Batch 3:  Loss: 1.364824 Validation Accuracy: 0.469000\n",
      "Epoch  3, CIFAR-10 Batch 4:  Loss: 1.360077 Validation Accuracy: 0.476400\n",
      "Epoch  3, CIFAR-10 Batch 5:  Loss: 1.362000 Validation Accuracy: 0.487800\n",
      "Epoch  4, CIFAR-10 Batch 1:  Loss: 1.375034 Validation Accuracy: 0.490800\n",
      "Epoch  4, CIFAR-10 Batch 2:  Loss: 1.377177 Validation Accuracy: 0.508600\n",
      "Epoch  4, CIFAR-10 Batch 3:  Loss: 1.307451 Validation Accuracy: 0.496200\n",
      "Epoch  4, CIFAR-10 Batch 4:  Loss: 1.289620 Validation Accuracy: 0.516400\n",
      "Epoch  4, CIFAR-10 Batch 5:  Loss: 1.289766 Validation Accuracy: 0.517200\n",
      "Epoch  5, CIFAR-10 Batch 1:  Loss: 1.260898 Validation Accuracy: 0.529600\n",
      "Epoch  5, CIFAR-10 Batch 2:  Loss: 1.270233 Validation Accuracy: 0.538000\n",
      "Epoch  5, CIFAR-10 Batch 3:  Loss: 1.177816 Validation Accuracy: 0.544600\n",
      "Epoch  5, CIFAR-10 Batch 4:  Loss: 1.176905 Validation Accuracy: 0.546200\n",
      "Epoch  5, CIFAR-10 Batch 5:  Loss: 1.171504 Validation Accuracy: 0.553600\n",
      "Epoch  6, CIFAR-10 Batch 1:  Loss: 1.240023 Validation Accuracy: 0.530200\n",
      "Epoch  6, CIFAR-10 Batch 2:  Loss: 1.277790 Validation Accuracy: 0.525800\n",
      "Epoch  6, CIFAR-10 Batch 3:  Loss: 1.143383 Validation Accuracy: 0.549800\n",
      "Epoch  6, CIFAR-10 Batch 4:  Loss: 1.126822 Validation Accuracy: 0.571400\n",
      "Epoch  6, CIFAR-10 Batch 5:  Loss: 1.114004 Validation Accuracy: 0.571200\n",
      "Epoch  7, CIFAR-10 Batch 1:  Loss: 1.132914 Validation Accuracy: 0.574200\n",
      "Epoch  7, CIFAR-10 Batch 2:  Loss: 1.158188 Validation Accuracy: 0.567000\n",
      "Epoch  7, CIFAR-10 Batch 3:  Loss: 1.075745 Validation Accuracy: 0.580600\n",
      "Epoch  7, CIFAR-10 Batch 4:  Loss: 1.058607 Validation Accuracy: 0.582400\n",
      "Epoch  7, CIFAR-10 Batch 5:  Loss: 1.031415 Validation Accuracy: 0.599000\n",
      "Epoch  8, CIFAR-10 Batch 1:  Loss: 1.072244 Validation Accuracy: 0.595200\n",
      "Epoch  8, CIFAR-10 Batch 2:  Loss: 1.076691 Validation Accuracy: 0.601000\n",
      "Epoch  8, CIFAR-10 Batch 3:  Loss: 1.040311 Validation Accuracy: 0.595000\n",
      "Epoch  8, CIFAR-10 Batch 4:  Loss: 1.004897 Validation Accuracy: 0.600800\n",
      "Epoch  8, CIFAR-10 Batch 5:  Loss: 0.983208 Validation Accuracy: 0.622400\n",
      "Epoch  9, CIFAR-10 Batch 1:  Loss: 1.039455 Validation Accuracy: 0.607600\n",
      "Epoch  9, CIFAR-10 Batch 2:  Loss: 1.049571 Validation Accuracy: 0.614000\n",
      "Epoch  9, CIFAR-10 Batch 3:  Loss: 0.975812 Validation Accuracy: 0.612600\n",
      "Epoch  9, CIFAR-10 Batch 4:  Loss: 0.946709 Validation Accuracy: 0.625200\n",
      "Epoch  9, CIFAR-10 Batch 5:  Loss: 0.943125 Validation Accuracy: 0.627200\n",
      "Epoch 10, CIFAR-10 Batch 1:  Loss: 1.005396 Validation Accuracy: 0.619600\n",
      "Epoch 10, CIFAR-10 Batch 2:  Loss: 0.998159 Validation Accuracy: 0.629800\n",
      "Epoch 10, CIFAR-10 Batch 3:  Loss: 0.906368 Validation Accuracy: 0.634600\n",
      "Epoch 10, CIFAR-10 Batch 4:  Loss: 0.886545 Validation Accuracy: 0.637000\n",
      "Epoch 10, CIFAR-10 Batch 5:  Loss: 0.888073 Validation Accuracy: 0.644400\n",
      "Epoch 11, CIFAR-10 Batch 1:  Loss: 0.945516 Validation Accuracy: 0.636800\n",
      "Epoch 11, CIFAR-10 Batch 2:  Loss: 0.905630 Validation Accuracy: 0.655000\n",
      "Epoch 11, CIFAR-10 Batch 3:  Loss: 0.874644 Validation Accuracy: 0.643200\n",
      "Epoch 11, CIFAR-10 Batch 4:  Loss: 0.862959 Validation Accuracy: 0.646000\n",
      "Epoch 11, CIFAR-10 Batch 5:  Loss: 0.836557 Validation Accuracy: 0.653400\n",
      "Epoch 12, CIFAR-10 Batch 1:  Loss: 0.916186 Validation Accuracy: 0.644400\n",
      "Epoch 12, CIFAR-10 Batch 2:  Loss: 0.888288 Validation Accuracy: 0.656000\n",
      "Epoch 12, CIFAR-10 Batch 3:  Loss: 0.840173 Validation Accuracy: 0.656200\n",
      "Epoch 12, CIFAR-10 Batch 4:  Loss: 0.818244 Validation Accuracy: 0.657000\n",
      "Epoch 12, CIFAR-10 Batch 5:  Loss: 0.800860 Validation Accuracy: 0.665600\n",
      "Epoch 13, CIFAR-10 Batch 1:  Loss: 0.857339 Validation Accuracy: 0.666600\n",
      "Epoch 13, CIFAR-10 Batch 2:  Loss: 0.831435 Validation Accuracy: 0.669000\n",
      "Epoch 13, CIFAR-10 Batch 3:  Loss: 0.790841 Validation Accuracy: 0.667800\n",
      "Epoch 13, CIFAR-10 Batch 4:  Loss: 0.778798 Validation Accuracy: 0.668800\n",
      "Epoch 13, CIFAR-10 Batch 5:  Loss: 0.777367 Validation Accuracy: 0.673200\n",
      "Epoch 14, CIFAR-10 Batch 1:  Loss: 0.849534 Validation Accuracy: 0.668400\n",
      "Epoch 14, CIFAR-10 Batch 2:  Loss: 0.841285 Validation Accuracy: 0.667000\n",
      "Epoch 14, CIFAR-10 Batch 3:  Loss: 0.766320 Validation Accuracy: 0.675000\n",
      "Epoch 14, CIFAR-10 Batch 4:  Loss: 0.772258 Validation Accuracy: 0.666600\n",
      "Epoch 14, CIFAR-10 Batch 5:  Loss: 0.729527 Validation Accuracy: 0.682400\n",
      "Epoch 15, CIFAR-10 Batch 1:  Loss: 0.795319 Validation Accuracy: 0.684400\n",
      "Epoch 15, CIFAR-10 Batch 2:  Loss: 0.764628 Validation Accuracy: 0.685400\n",
      "Epoch 15, CIFAR-10 Batch 3:  Loss: 0.727172 Validation Accuracy: 0.678400\n",
      "Epoch 15, CIFAR-10 Batch 4:  Loss: 0.708977 Validation Accuracy: 0.683200\n",
      "Epoch 15, CIFAR-10 Batch 5:  Loss: 0.708456 Validation Accuracy: 0.687000\n",
      "Epoch 16, CIFAR-10 Batch 1:  Loss: 0.744137 Validation Accuracy: 0.686200\n",
      "Epoch 16, CIFAR-10 Batch 2:  Loss: 0.751950 Validation Accuracy: 0.688000\n",
      "Epoch 16, CIFAR-10 Batch 3:  Loss: 0.705771 Validation Accuracy: 0.689200\n",
      "Epoch 16, CIFAR-10 Batch 4:  Loss: 0.681092 Validation Accuracy: 0.692800\n",
      "Epoch 16, CIFAR-10 Batch 5:  Loss: 0.679345 Validation Accuracy: 0.689200\n",
      "Epoch 17, CIFAR-10 Batch 1:  Loss: 0.731893 Validation Accuracy: 0.689400\n",
      "Epoch 17, CIFAR-10 Batch 2:  Loss: 0.765770 Validation Accuracy: 0.684200\n",
      "Epoch 17, CIFAR-10 Batch 3:  Loss: 0.711122 Validation Accuracy: 0.686800\n",
      "Epoch 17, CIFAR-10 Batch 4:  Loss: 0.650695 Validation Accuracy: 0.698200\n",
      "Epoch 17, CIFAR-10 Batch 5:  Loss: 0.636510 Validation Accuracy: 0.701800\n",
      "Epoch 18, CIFAR-10 Batch 1:  Loss: 0.695139 Validation Accuracy: 0.702400\n",
      "Epoch 18, CIFAR-10 Batch 2:  Loss: 0.690430 Validation Accuracy: 0.704400\n",
      "Epoch 18, CIFAR-10 Batch 3:  Loss: 0.665525 Validation Accuracy: 0.695600\n",
      "Epoch 18, CIFAR-10 Batch 4:  Loss: 0.637521 Validation Accuracy: 0.694000\n",
      "Epoch 18, CIFAR-10 Batch 5:  Loss: 0.612982 Validation Accuracy: 0.710600\n",
      "Epoch 19, CIFAR-10 Batch 1:  Loss: 0.666414 Validation Accuracy: 0.705800\n",
      "Epoch 19, CIFAR-10 Batch 2:  Loss: 0.664647 Validation Accuracy: 0.707600\n",
      "Epoch 19, CIFAR-10 Batch 3:  Loss: 0.672272 Validation Accuracy: 0.692000\n",
      "Epoch 19, CIFAR-10 Batch 4:  Loss: 0.610417 Validation Accuracy: 0.699600\n",
      "Epoch 19, CIFAR-10 Batch 5:  Loss: 0.604076 Validation Accuracy: 0.710000\n",
      "Epoch 20, CIFAR-10 Batch 1:  Loss: 0.663664 Validation Accuracy: 0.702400\n",
      "Epoch 20, CIFAR-10 Batch 2:  Loss: 0.668795 Validation Accuracy: 0.697800\n",
      "Epoch 20, CIFAR-10 Batch 3:  Loss: 0.601864 Validation Accuracy: 0.706000\n",
      "Epoch 20, CIFAR-10 Batch 4:  Loss: 0.588749 Validation Accuracy: 0.711000\n",
      "Epoch 20, CIFAR-10 Batch 5:  Loss: 0.584387 Validation Accuracy: 0.711600\n",
      "Epoch 21, CIFAR-10 Batch 1:  Loss: 0.646371 Validation Accuracy: 0.705400\n",
      "Epoch 21, CIFAR-10 Batch 2:  Loss: 0.616897 Validation Accuracy: 0.718000\n",
      "Epoch 21, CIFAR-10 Batch 3:  Loss: 0.606533 Validation Accuracy: 0.704200\n",
      "Epoch 21, CIFAR-10 Batch 4:  Loss: 0.553880 Validation Accuracy: 0.715000\n",
      "Epoch 21, CIFAR-10 Batch 5:  Loss: 0.565579 Validation Accuracy: 0.715200\n",
      "Epoch 22, CIFAR-10 Batch 1:  Loss: 0.584979 Validation Accuracy: 0.716400\n",
      "Epoch 22, CIFAR-10 Batch 2:  Loss: 0.601969 Validation Accuracy: 0.719400\n",
      "Epoch 22, CIFAR-10 Batch 3:  Loss: 0.575686 Validation Accuracy: 0.712200\n",
      "Epoch 22, CIFAR-10 Batch 4:  Loss: 0.530620 Validation Accuracy: 0.715000\n",
      "Epoch 22, CIFAR-10 Batch 5:  Loss: 0.521918 Validation Accuracy: 0.724400\n",
      "Epoch 23, CIFAR-10 Batch 1:  Loss: 0.573581 Validation Accuracy: 0.710600\n",
      "Epoch 23, CIFAR-10 Batch 2:  Loss: 0.595197 Validation Accuracy: 0.724200\n",
      "Epoch 23, CIFAR-10 Batch 3:  Loss: 0.534459 Validation Accuracy: 0.724200\n",
      "Epoch 23, CIFAR-10 Batch 4:  Loss: 0.526763 Validation Accuracy: 0.717600\n",
      "Epoch 23, CIFAR-10 Batch 5:  Loss: 0.489407 Validation Accuracy: 0.722600\n",
      "Epoch 24, CIFAR-10 Batch 1:  Loss: 0.545113 Validation Accuracy: 0.717200\n",
      "Epoch 24, CIFAR-10 Batch 2:  Loss: 0.558437 Validation Accuracy: 0.734400\n",
      "Epoch 24, CIFAR-10 Batch 3:  Loss: 0.521464 Validation Accuracy: 0.729400\n",
      "Epoch 24, CIFAR-10 Batch 4:  Loss: 0.493003 Validation Accuracy: 0.724400\n",
      "Epoch 24, CIFAR-10 Batch 5:  Loss: 0.465890 Validation Accuracy: 0.728400\n",
      "Epoch 25, CIFAR-10 Batch 1:  Loss: 0.513551 Validation Accuracy: 0.732400\n",
      "Epoch 25, CIFAR-10 Batch 2:  Loss: 0.541555 Validation Accuracy: 0.733200\n",
      "Epoch 25, CIFAR-10 Batch 3:  Loss: 0.507814 Validation Accuracy: 0.720200\n",
      "Epoch 25, CIFAR-10 Batch 4:  Loss: 0.487692 Validation Accuracy: 0.720800\n",
      "Epoch 25, CIFAR-10 Batch 5:  Loss: 0.452382 Validation Accuracy: 0.731400\n",
      "Epoch 26, CIFAR-10 Batch 1:  Loss: 0.515467 Validation Accuracy: 0.730400\n",
      "Epoch 26, CIFAR-10 Batch 2:  Loss: 0.530503 Validation Accuracy: 0.734600\n",
      "Epoch 26, CIFAR-10 Batch 3:  Loss: 0.491482 Validation Accuracy: 0.725000\n",
      "Epoch 26, CIFAR-10 Batch 4:  Loss: 0.461353 Validation Accuracy: 0.731200\n",
      "Epoch 26, CIFAR-10 Batch 5:  Loss: 0.459439 Validation Accuracy: 0.726600\n",
      "Epoch 27, CIFAR-10 Batch 1:  Loss: 0.491410 Validation Accuracy: 0.732200\n",
      "Epoch 27, CIFAR-10 Batch 2:  Loss: 0.499116 Validation Accuracy: 0.731600\n",
      "Epoch 27, CIFAR-10 Batch 3:  Loss: 0.456600 Validation Accuracy: 0.730600\n",
      "Epoch 27, CIFAR-10 Batch 4:  Loss: 0.498850 Validation Accuracy: 0.712200\n",
      "Epoch 27, CIFAR-10 Batch 5:  Loss: 0.464516 Validation Accuracy: 0.728200\n",
      "Epoch 28, CIFAR-10 Batch 1:  Loss: 0.469901 Validation Accuracy: 0.732600\n",
      "Epoch 28, CIFAR-10 Batch 2:  Loss: 0.494506 Validation Accuracy: 0.727000\n",
      "Epoch 28, CIFAR-10 Batch 3:  Loss: 0.454910 Validation Accuracy: 0.736000\n",
      "Epoch 28, CIFAR-10 Batch 4:  Loss: 0.453657 Validation Accuracy: 0.727800\n",
      "Epoch 28, CIFAR-10 Batch 5:  Loss: 0.466819 Validation Accuracy: 0.724600\n",
      "Epoch 29, CIFAR-10 Batch 1:  Loss: 0.461701 Validation Accuracy: 0.733000\n",
      "Epoch 29, CIFAR-10 Batch 2:  Loss: 0.485310 Validation Accuracy: 0.732800\n",
      "Epoch 29, CIFAR-10 Batch 3:  Loss: 0.447456 Validation Accuracy: 0.735400\n",
      "Epoch 29, CIFAR-10 Batch 4:  Loss: 0.417271 Validation Accuracy: 0.736600\n",
      "Epoch 29, CIFAR-10 Batch 5:  Loss: 0.438089 Validation Accuracy: 0.724400\n",
      "Epoch 30, CIFAR-10 Batch 1:  Loss: 0.457944 Validation Accuracy: 0.732600\n",
      "Epoch 30, CIFAR-10 Batch 2:  Loss: 0.450149 Validation Accuracy: 0.735600\n",
      "Epoch 30, CIFAR-10 Batch 3:  Loss: 0.419964 Validation Accuracy: 0.735000\n",
      "Epoch 30, CIFAR-10 Batch 4:  Loss: 0.399565 Validation Accuracy: 0.736200\n",
      "Epoch 30, CIFAR-10 Batch 5:  Loss: 0.381524 Validation Accuracy: 0.730000\n",
      "Epoch 31, CIFAR-10 Batch 1:  Loss: 0.455190 Validation Accuracy: 0.720200\n",
      "Epoch 31, CIFAR-10 Batch 2:  Loss: 0.455324 Validation Accuracy: 0.726400\n",
      "Epoch 31, CIFAR-10 Batch 3:  Loss: 0.414481 Validation Accuracy: 0.735200\n",
      "Epoch 31, CIFAR-10 Batch 4:  Loss: 0.379321 Validation Accuracy: 0.739800\n",
      "Epoch 31, CIFAR-10 Batch 5:  Loss: 0.376260 Validation Accuracy: 0.720800\n",
      "Epoch 32, CIFAR-10 Batch 1:  Loss: 0.434850 Validation Accuracy: 0.728600\n",
      "Epoch 32, CIFAR-10 Batch 2:  Loss: 0.429979 Validation Accuracy: 0.732000\n",
      "Epoch 32, CIFAR-10 Batch 3:  Loss: 0.391030 Validation Accuracy: 0.739800\n",
      "Epoch 32, CIFAR-10 Batch 4:  Loss: 0.365221 Validation Accuracy: 0.737000\n",
      "Epoch 32, CIFAR-10 Batch 5:  Loss: 0.380598 Validation Accuracy: 0.724400\n",
      "Epoch 33, CIFAR-10 Batch 1:  Loss: 0.456185 Validation Accuracy: 0.722400\n",
      "Epoch 33, CIFAR-10 Batch 2:  Loss: 0.430070 Validation Accuracy: 0.733200\n",
      "Epoch 33, CIFAR-10 Batch 3:  Loss: 0.400371 Validation Accuracy: 0.732800\n",
      "Epoch 33, CIFAR-10 Batch 4:  Loss: 0.346968 Validation Accuracy: 0.746000\n",
      "Epoch 33, CIFAR-10 Batch 5:  Loss: 0.353953 Validation Accuracy: 0.731800\n",
      "Epoch 34, CIFAR-10 Batch 1:  Loss: 0.388134 Validation Accuracy: 0.740800\n",
      "Epoch 34, CIFAR-10 Batch 2:  Loss: 0.401828 Validation Accuracy: 0.738600\n",
      "Epoch 34, CIFAR-10 Batch 3:  Loss: 0.363910 Validation Accuracy: 0.742800\n",
      "Epoch 34, CIFAR-10 Batch 4:  Loss: 0.329617 Validation Accuracy: 0.742000\n",
      "Epoch 34, CIFAR-10 Batch 5:  Loss: 0.331724 Validation Accuracy: 0.728000\n",
      "Epoch 35, CIFAR-10 Batch 1:  Loss: 0.387812 Validation Accuracy: 0.738800\n",
      "Epoch 35, CIFAR-10 Batch 2:  Loss: 0.380513 Validation Accuracy: 0.743600\n",
      "Epoch 35, CIFAR-10 Batch 3:  Loss: 0.349216 Validation Accuracy: 0.745000\n",
      "Epoch 35, CIFAR-10 Batch 4:  Loss: 0.304957 Validation Accuracy: 0.743800\n",
      "Epoch 35, CIFAR-10 Batch 5:  Loss: 0.281835 Validation Accuracy: 0.743200\n",
      "Epoch 36, CIFAR-10 Batch 1:  Loss: 0.382094 Validation Accuracy: 0.734000\n",
      "Epoch 36, CIFAR-10 Batch 2:  Loss: 0.372229 Validation Accuracy: 0.737400\n",
      "Epoch 36, CIFAR-10 Batch 3:  Loss: 0.377576 Validation Accuracy: 0.726600\n",
      "Epoch 36, CIFAR-10 Batch 4:  Loss: 0.334208 Validation Accuracy: 0.727000\n",
      "Epoch 36, CIFAR-10 Batch 5:  Loss: 0.277073 Validation Accuracy: 0.738400\n",
      "Epoch 37, CIFAR-10 Batch 1:  Loss: 0.366178 Validation Accuracy: 0.736200\n",
      "Epoch 37, CIFAR-10 Batch 2:  Loss: 0.344920 Validation Accuracy: 0.738000\n",
      "Epoch 37, CIFAR-10 Batch 3:  Loss: 0.326133 Validation Accuracy: 0.746200\n",
      "Epoch 37, CIFAR-10 Batch 4:  Loss: 0.290426 Validation Accuracy: 0.740000\n",
      "Epoch 37, CIFAR-10 Batch 5:  Loss: 0.286379 Validation Accuracy: 0.735600\n",
      "Epoch 38, CIFAR-10 Batch 1:  Loss: 0.360033 Validation Accuracy: 0.724000\n",
      "Epoch 38, CIFAR-10 Batch 2:  Loss: 0.333039 Validation Accuracy: 0.746200\n",
      "Epoch 38, CIFAR-10 Batch 3:  Loss: 0.320031 Validation Accuracy: 0.742800\n",
      "Epoch 38, CIFAR-10 Batch 4:  Loss: 0.291047 Validation Accuracy: 0.744000\n",
      "Epoch 38, CIFAR-10 Batch 5:  Loss: 0.282762 Validation Accuracy: 0.736000\n",
      "Epoch 39, CIFAR-10 Batch 1:  Loss: 0.334677 Validation Accuracy: 0.731400\n",
      "Epoch 39, CIFAR-10 Batch 2:  Loss: 0.365035 Validation Accuracy: 0.733400\n",
      "Epoch 39, CIFAR-10 Batch 3:  Loss: 0.325964 Validation Accuracy: 0.735400\n",
      "Epoch 39, CIFAR-10 Batch 4:  Loss: 0.266808 Validation Accuracy: 0.743200\n",
      "Epoch 39, CIFAR-10 Batch 5:  Loss: 0.257352 Validation Accuracy: 0.745000\n",
      "Epoch 40, CIFAR-10 Batch 1:  Loss: 0.319583 Validation Accuracy: 0.740800\n",
      "Epoch 40, CIFAR-10 Batch 2:  Loss: 0.314449 Validation Accuracy: 0.742000\n",
      "Epoch 40, CIFAR-10 Batch 3:  Loss: 0.296620 Validation Accuracy: 0.746400\n",
      "Epoch 40, CIFAR-10 Batch 4:  Loss: 0.254844 Validation Accuracy: 0.742800\n",
      "Epoch 40, CIFAR-10 Batch 5:  Loss: 0.229234 Validation Accuracy: 0.746200\n",
      "Epoch 41, CIFAR-10 Batch 1:  Loss: 0.288980 Validation Accuracy: 0.748800\n",
      "Epoch 41, CIFAR-10 Batch 2:  Loss: 0.287911 Validation Accuracy: 0.742800\n",
      "Epoch 41, CIFAR-10 Batch 3:  Loss: 0.272111 Validation Accuracy: 0.744200\n",
      "Epoch 41, CIFAR-10 Batch 4:  Loss: 0.240533 Validation Accuracy: 0.739800\n",
      "Epoch 41, CIFAR-10 Batch 5:  Loss: 0.222302 Validation Accuracy: 0.745400\n",
      "Epoch 42, CIFAR-10 Batch 1:  Loss: 0.311976 Validation Accuracy: 0.736800\n",
      "Epoch 42, CIFAR-10 Batch 2:  Loss: 0.293417 Validation Accuracy: 0.738200\n",
      "Epoch 42, CIFAR-10 Batch 3:  Loss: 0.274826 Validation Accuracy: 0.743600\n",
      "Epoch 42, CIFAR-10 Batch 4:  Loss: 0.235091 Validation Accuracy: 0.739600\n",
      "Epoch 42, CIFAR-10 Batch 5:  Loss: 0.217864 Validation Accuracy: 0.748600\n",
      "Epoch 43, CIFAR-10 Batch 1:  Loss: 0.270311 Validation Accuracy: 0.746000\n",
      "Epoch 43, CIFAR-10 Batch 2:  Loss: 0.265806 Validation Accuracy: 0.744600\n",
      "Epoch 43, CIFAR-10 Batch 3:  Loss: 0.269023 Validation Accuracy: 0.742800\n",
      "Epoch 43, CIFAR-10 Batch 4:  Loss: 0.221244 Validation Accuracy: 0.740000\n",
      "Epoch 43, CIFAR-10 Batch 5:  Loss: 0.235068 Validation Accuracy: 0.746800\n",
      "Epoch 44, CIFAR-10 Batch 1:  Loss: 0.254018 Validation Accuracy: 0.746400\n",
      "Epoch 44, CIFAR-10 Batch 2:  Loss: 0.261874 Validation Accuracy: 0.745600\n",
      "Epoch 44, CIFAR-10 Batch 3:  Loss: 0.273856 Validation Accuracy: 0.743400\n",
      "Epoch 44, CIFAR-10 Batch 4:  Loss: 0.231079 Validation Accuracy: 0.732800\n",
      "Epoch 44, CIFAR-10 Batch 5:  Loss: 0.214364 Validation Accuracy: 0.740400\n",
      "Epoch 45, CIFAR-10 Batch 1:  Loss: 0.245130 Validation Accuracy: 0.748800\n",
      "Epoch 45, CIFAR-10 Batch 2:  Loss: 0.255507 Validation Accuracy: 0.748600\n",
      "Epoch 45, CIFAR-10 Batch 3:  Loss: 0.235632 Validation Accuracy: 0.741800\n",
      "Epoch 45, CIFAR-10 Batch 4:  Loss: 0.199991 Validation Accuracy: 0.746600\n",
      "Epoch 45, CIFAR-10 Batch 5:  Loss: 0.171379 Validation Accuracy: 0.752200\n",
      "Epoch 46, CIFAR-10 Batch 1:  Loss: 0.219142 Validation Accuracy: 0.744800\n",
      "Epoch 46, CIFAR-10 Batch 2:  Loss: 0.220658 Validation Accuracy: 0.746200\n",
      "Epoch 46, CIFAR-10 Batch 3:  Loss: 0.218616 Validation Accuracy: 0.753400\n",
      "Epoch 46, CIFAR-10 Batch 4:  Loss: 0.187937 Validation Accuracy: 0.736000\n",
      "Epoch 46, CIFAR-10 Batch 5:  Loss: 0.178743 Validation Accuracy: 0.743400\n",
      "Epoch 47, CIFAR-10 Batch 1:  Loss: 0.228496 Validation Accuracy: 0.741200\n",
      "Epoch 47, CIFAR-10 Batch 2:  Loss: 0.228972 Validation Accuracy: 0.737400\n",
      "Epoch 47, CIFAR-10 Batch 3:  Loss: 0.217041 Validation Accuracy: 0.748400\n",
      "Epoch 47, CIFAR-10 Batch 4:  Loss: 0.176249 Validation Accuracy: 0.742600\n",
      "Epoch 47, CIFAR-10 Batch 5:  Loss: 0.160069 Validation Accuracy: 0.744000\n",
      "Epoch 48, CIFAR-10 Batch 1:  Loss: 0.211688 Validation Accuracy: 0.746400\n",
      "Epoch 48, CIFAR-10 Batch 2:  Loss: 0.246145 Validation Accuracy: 0.734400\n",
      "Epoch 48, CIFAR-10 Batch 3:  Loss: 0.225881 Validation Accuracy: 0.740400\n",
      "Epoch 48, CIFAR-10 Batch 4:  Loss: 0.185005 Validation Accuracy: 0.745800\n",
      "Epoch 48, CIFAR-10 Batch 5:  Loss: 0.149792 Validation Accuracy: 0.753000\n",
      "Epoch 49, CIFAR-10 Batch 1:  Loss: 0.208358 Validation Accuracy: 0.745200\n",
      "Epoch 49, CIFAR-10 Batch 2:  Loss: 0.228543 Validation Accuracy: 0.734800\n",
      "Epoch 49, CIFAR-10 Batch 3:  Loss: 0.250646 Validation Accuracy: 0.732400\n",
      "Epoch 49, CIFAR-10 Batch 4:  Loss: 0.193053 Validation Accuracy: 0.733400\n",
      "Epoch 49, CIFAR-10 Batch 5:  Loss: 0.166295 Validation Accuracy: 0.746000\n",
      "Epoch 50, CIFAR-10 Batch 1:  Loss: 0.224450 Validation Accuracy: 0.739000\n",
      "Epoch 50, CIFAR-10 Batch 2:  Loss: 0.208561 Validation Accuracy: 0.738000\n",
      "Epoch 50, CIFAR-10 Batch 3:  Loss: 0.218777 Validation Accuracy: 0.740200\n",
      "Epoch 50, CIFAR-10 Batch 4:  Loss: 0.159037 Validation Accuracy: 0.743800\n",
      "Epoch 50, CIFAR-10 Batch 5:  Loss: 0.162148 Validation Accuracy: 0.741600\n"
     ]
    }
   ],
   "source": [
    "\"\"\"\n",
    "DON'T MODIFY ANYTHING IN THIS CELL\n",
    "\"\"\"\n",
    "save_model_path = './image_classification'\n",
    "\n",
    "print('Training...')\n",
    "with tf.Session() as sess:\n",
    "    # Initializing the variables\n",
    "    sess.run(tf.global_variables_initializer())\n",
    "    \n",
    "    # Training cycle\n",
    "    for epoch in range(epochs):\n",
    "        # Loop over all batches\n",
    "        n_batches = 5\n",
    "        for batch_i in range(1, n_batches + 1):\n",
    "            for batch_features, batch_labels in helper.load_preprocess_training_batch(batch_i, batch_size):\n",
    "                train_neural_network(sess, optimizer, keep_probability, batch_features, batch_labels)\n",
    "            print('Epoch {:>2}, CIFAR-10 Batch {}:  '.format(epoch + 1, batch_i), end='')\n",
    "            print_stats(sess, batch_features, batch_labels, cost, accuracy)\n",
    "            \n",
    "    # Save Model\n",
    "    saver = tf.train.Saver()\n",
    "    save_path = saver.save(sess, save_model_path)"
   ]
  },
  {
   "cell_type": "markdown",
   "metadata": {
    "deletable": true,
    "editable": true
   },
   "source": [
    "# Checkpoint\n",
    "The model has been saved to disk.\n",
    "## Test Model\n",
    "Test your model against the test dataset.  This will be your final accuracy. You should have an accuracy greater than 50%. If you don't, keep tweaking the model architecture and parameters."
   ]
  },
  {
   "cell_type": "code",
   "execution_count": 61,
   "metadata": {
    "collapsed": false,
    "deletable": true,
    "editable": true,
    "scrolled": true
   },
   "outputs": [
    {
     "name": "stdout",
     "output_type": "stream",
     "text": [
      "Testing Accuracy: 0.7344706654548645\n",
      "\n"
     ]
    },
    {
     "data": {
      "image/png": "[encoded data removed]",
      "text/plain": [
       "<matplotlib.figure.Figure at 0x7f703b889978>"
      ]
     },
     "metadata": {
      "image/png": {
       "height": 319,
       "width": 355
      }
     },
     "output_type": "display_data"
    }
   ],
   "source": [
    "\"\"\"\n",
    "DON'T MODIFY ANYTHING IN THIS CELL\n",
    "\"\"\"\n",
    "%matplotlib inline\n",
    "%config InlineBackend.figure_format = 'retina'\n",
    "\n",
    "import tensorflow as tf\n",
    "import pickle\n",
    "import helper\n",
    "import random\n",
    "\n",
    "# Set batch size if not already set\n",
    "try:\n",
    "    if batch_size:\n",
    "        pass\n",
    "except NameError:\n",
    "    batch_size = 64\n",
    "\n",
    "save_model_path = './image_classification'\n",
    "n_samples = 4\n",
    "top_n_predictions = 3\n",
    "\n",
    "def test_model():\n",
    "    \"\"\"\n",
    "    Test the saved model against the test dataset\n",
    "    \"\"\"\n",
    "\n",
    "    test_features, test_labels = pickle.load(open('preprocess_training.p', mode='rb'))\n",
    "    loaded_graph = tf.Graph()\n",
    "\n",
    "    with tf.Session(graph=loaded_graph) as sess:\n",
    "        # Load model\n",
    "        loader = tf.train.import_meta_graph(save_model_path + '.meta')\n",
    "        loader.restore(sess, save_model_path)\n",
    "\n",
    "        # Get Tensors from loaded model\n",
    "        loaded_x = loaded_graph.get_tensor_by_name('x:0')\n",
    "        loaded_y = loaded_graph.get_tensor_by_name('y:0')\n",
    "        loaded_keep_prob = loaded_graph.get_tensor_by_name('keep_prob:0')\n",
    "        loaded_logits = loaded_graph.get_tensor_by_name('logits:0')\n",
    "        loaded_acc = loaded_graph.get_tensor_by_name('accuracy:0')\n",
    "        \n",
    "        # Get accuracy in batches for memory limitations\n",
    "        test_batch_acc_total = 0\n",
    "        test_batch_count = 0\n",
    "        \n",
    "        for train_feature_batch, train_label_batch in helper.batch_features_labels(test_features, test_labels, batch_size):\n",
    "            test_batch_acc_total += sess.run(\n",
    "                loaded_acc,\n",
    "                feed_dict={loaded_x: train_feature_batch, loaded_y: train_label_batch, loaded_keep_prob: 1.0})\n",
    "            test_batch_count += 1\n",
    "\n",
    "        print('Testing Accuracy: {}\\n'.format(test_batch_acc_total/test_batch_count))\n",
    "\n",
    "        # Print Random Samples\n",
    "        random_test_features, random_test_labels = tuple(zip(*random.sample(list(zip(test_features, test_labels)), n_samples)))\n",
    "        random_test_predictions = sess.run(\n",
    "            tf.nn.top_k(tf.nn.softmax(loaded_logits), top_n_predictions),\n",
    "            feed_dict={loaded_x: random_test_features, loaded_y: random_test_labels, loaded_keep_prob: 1.0})\n",
    "        helper.display_image_predictions(random_test_features, random_test_labels, random_test_predictions)\n",
    "\n",
    "\n",
    "test_model()"
   ]
  },
  {
   "cell_type": "markdown",
   "metadata": {
    "deletable": true,
    "editable": true
   },
   "source": [
    "## Why 50-70% Accuracy?\n",
    "You might be wondering why you can't get an accuracy any higher. First things first, 50% isn't bad for a simple CNN.  Pure guessing would get you 10% accuracy. However, you might notice people are getting scores [well above 70%](http://rodrigob.github.io/are_we_there_yet/build/classification_datasets_results.html#43494641522d3130).  That's because we haven't taught you all there is to know about neural networks. We still need to cover a few more techniques.\n",
    "## Submitting This Project\n",
    "When submitting this project, make sure to run all the cells before saving the notebook.  Save the notebook file as \"dlnd_image_classification.ipynb\" and save it as a HTML file under \"File\" -> \"Download as\".  Include the \"helper.py\" and \"problem_unittests.py\" files in your submission."
   ]
  }
 ],
 "metadata": {
  "anaconda-cloud": {},
  "kernelspec": {
   "display_name": "Python 3",
   "language": "python",
   "name": "python3"
  },
  "language_info": {
   "codemirror_mode": {
    "name": "ipython",
    "version": 3
   },
   "file_extension": ".py",
   "mimetype": "text/x-python",
   "name": "python",
   "nbconvert_exporter": "python",
   "pygments_lexer": "ipython3",
   "version": "3.5.2"
  },
  "widgets": {
   "state": {},
   "version": "1.1.2"
  }
 },
 "nbformat": 4,
 "nbformat_minor": 0
}
