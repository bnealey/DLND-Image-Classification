{
 "cells": [
  {
   "cell_type": "markdown",
   "metadata": {
    "collapsed": true,
    "deletable": true,
    "editable": true
   },
   "source": [
    "# Image Classification\n",
    "In this project, you'll classify images from the [CIFAR-10 dataset](https://www.cs.toronto.edu/~kriz/cifar.html).  The dataset consists of airplanes, dogs, cats, and other objects. You'll preprocess the images, then train a convolutional neural network on all the samples. The images need to be normalized and the labels need to be one-hot encoded.  You'll get to apply what you learned and build a convolutional, max pooling, dropout, and fully connected layers.  At the end, you'll get to see your neural network's predictions on the sample images.\n",
    "## Get the Data\n",
    "Run the following cell to download the [CIFAR-10 dataset for python](https://www.cs.toronto.edu/~kriz/cifar-10-python.tar.gz)."
   ]
  },
  {
   "cell_type": "code",
   "execution_count": 108,
   "metadata": {
    "collapsed": false,
    "deletable": true,
    "editable": true
   },
   "outputs": [
    {
     "name": "stdout",
     "output_type": "stream",
     "text": [
      "All files found!\n"
     ]
    }
   ],
   "source": [
    "\"\"\"\n",
    "DON'T MODIFY ANYTHING IN THIS CELL THAT IS BELOW THIS LINE\n",
    "\"\"\"\n",
    "from urllib.request import urlretrieve\n",
    "from os.path import isfile, isdir\n",
    "from tqdm import tqdm\n",
    "import problem_unittests as tests\n",
    "import tarfile\n",
    "\n",
    "cifar10_dataset_folder_path = 'cifar-10-batches-py'\n",
    "\n",
    "class DLProgress(tqdm):\n",
    "    last_block = 0\n",
    "\n",
    "    def hook(self, block_num=1, block_size=1, total_size=None):\n",
    "        self.total = total_size\n",
    "        self.update((block_num - self.last_block) * block_size)\n",
    "        self.last_block = block_num\n",
    "\n",
    "if not isfile('cifar-10-python.tar.gz'):\n",
    "    with DLProgress(unit='B', unit_scale=True, miniters=1, desc='CIFAR-10 Dataset') as pbar:\n",
    "        urlretrieve(\n",
    "            'https://www.cs.toronto.edu/~kriz/cifar-10-python.tar.gz',\n",
    "            'cifar-10-python.tar.gz',\n",
    "            pbar.hook)\n",
    "\n",
    "if not isdir(cifar10_dataset_folder_path):\n",
    "    with tarfile.open('cifar-10-python.tar.gz') as tar:\n",
    "        tar.extractall()\n",
    "        tar.close()\n",
    "\n",
    "\n",
    "tests.test_folder_path(cifar10_dataset_folder_path)"
   ]
  },
  {
   "cell_type": "markdown",
   "metadata": {
    "deletable": true,
    "editable": true
   },
   "source": [
    "## Explore the Data\n",
    "The dataset is broken into batches to prevent your machine from running out of memory.  The CIFAR-10 dataset consists of 5 batches, named `data_batch_1`, `data_batch_2`, etc.. Each batch contains the labels and images that are one of the following:\n",
    "* airplane\n",
    "* automobile\n",
    "* bird\n",
    "* cat\n",
    "* deer\n",
    "* dog\n",
    "* frog\n",
    "* horse\n",
    "* ship\n",
    "* truck\n",
    "\n",
    "Understanding a dataset is part of making predictions on the data.  Play around with the code cell below by changing the `batch_id` and `sample_id`. The `batch_id` is the id for a batch (1-5). The `sample_id` is the id for a image and label pair in the batch.\n",
    "\n",
    "Ask yourself \"What are all possible labels?\", \"What is the range of values for the image data?\", \"Are the labels in order or random?\".  Answers to questions like these will help you preprocess the data and end up with better predictions."
   ]
  },
  {
   "cell_type": "code",
   "execution_count": 109,
   "metadata": {
    "collapsed": false,
    "deletable": true,
    "editable": true
   },
   "outputs": [
    {
     "name": "stdout",
     "output_type": "stream",
     "text": [
      "\n",
      "Stats of batch 5:\n",
      "Samples: 10000\n",
      "Label Counts: {0: 1014, 1: 1014, 2: 952, 3: 1016, 4: 997, 5: 1025, 6: 980, 7: 977, 8: 1003, 9: 1022}\n",
      "First 20 Labels: [1, 8, 5, 1, 5, 7, 4, 3, 8, 2, 7, 2, 0, 1, 5, 9, 6, 2, 0, 8]\n",
      "\n",
      "Example of Image 246:\n",
      "Image - Min Value: 18 Max Value: 255\n",
      "Image - Shape: (32, 32, 3)\n",
      "Label - Label Id: 3 Name: cat\n"
     ]
    },
    {
     "data": {
      "image/png": "[encoded data removed]",
      "text/plain": [
       "<matplotlib.figure.Figure at 0x7f65faefc8d0>"
      ]
     },
     "metadata": {
      "image/png": {
       "height": 250,
       "width": 253
      }
     },
     "output_type": "display_data"
    }
   ],
   "source": [
    "%matplotlib inline\n",
    "%config InlineBackend.figure_format = 'retina'\n",
    "\n",
    "import helper\n",
    "import numpy as np\n",
    "\n",
    "# Explore the dataset\n",
    "batch_id = 5\n",
    "sample_id = 246\n",
    "helper.display_stats(cifar10_dataset_folder_path, batch_id, sample_id)"
   ]
  },
  {
   "cell_type": "markdown",
   "metadata": {
    "deletable": true,
    "editable": true
   },
   "source": [
    "## Implement Preprocess Functions\n",
    "### Normalize\n",
    "In the cell below, implement the `normalize` function to take in image data, `x`, and return it as a normalized Numpy array. The values should be in the range of 0 to 1, inclusive.  The return object should be the same shape as `x`."
   ]
  },
  {
   "cell_type": "code",
   "execution_count": 110,
   "metadata": {
    "collapsed": false,
    "deletable": true,
    "editable": true
   },
   "outputs": [
    {
     "name": "stdout",
     "output_type": "stream",
     "text": [
      "Tests Passed\n"
     ]
    }
   ],
   "source": [
    "def normalize(x):\n",
    "    \"\"\"\n",
    "    Normalize a list of sample image data in the range of 0 to 1\n",
    "    : x: List of image data.  The image shape is (32, 32, 3)\n",
    "    : return: Numpy array of normalize data\n",
    "    \"\"\"\n",
    "    # TODO: Implement Function\n",
    "    # a = 0\n",
    "    # b = 1\n",
    "    # grayscale_min = 0\n",
    "    # grayscale_max = 255\n",
    "    # return a + (((x - grayscale_min)*(b - a))/(grayscale_max - grayscale_min))\n",
    "    \n",
    "    return x/255\n",
    "\n",
    "\n",
    "\"\"\"\n",
    "DON'T MODIFY ANYTHING IN THIS CELL THAT IS BELOW THIS LINE\n",
    "\"\"\"\n",
    "tests.test_normalize(normalize)"
   ]
  },
  {
   "cell_type": "markdown",
   "metadata": {
    "deletable": true,
    "editable": true
   },
   "source": [
    "### One-hot encode\n",
    "Just like the previous code cell, you'll be implementing a function for preprocessing.  This time, you'll implement the `one_hot_encode` function. The input, `x`, are a list of labels.  Implement the function to return the list of labels as One-Hot encoded Numpy array.  The possible values for labels are 0 to 9. The one-hot encoding function should return the same encoding for each value between each call to `one_hot_encode`.  Make sure to save the map of encodings outside the function.\n",
    "\n",
    "Hint: Don't reinvent the wheel."
   ]
  },
  {
   "cell_type": "code",
   "execution_count": 111,
   "metadata": {
    "collapsed": false,
    "deletable": true,
    "editable": true
   },
   "outputs": [
    {
     "name": "stdout",
     "output_type": "stream",
     "text": [
      "Tests Passed\n"
     ]
    }
   ],
   "source": [
    "from sklearn.preprocessing import LabelBinarizer\n",
    "encoder = LabelBinarizer()\n",
    "encoder.fit(list(range(0, 10)))\n",
    "def one_hot_encode(x):\n",
    "    \"\"\"\n",
    "    One hot encode a list of sample labels. Return a one-hot encoded vector for each label.\n",
    "    : x: List of sample Labels\n",
    "    : return: Numpy array of one-hot encoded labels\n",
    "    \"\"\"\n",
    "    # TODO: Implement Function\n",
    "\n",
    "    return encoder.transform(x)\n",
    "\n",
    "\n",
    "\"\"\"\n",
    "DON'T MODIFY ANYTHING IN THIS CELL THAT IS BELOW THIS LINE\n",
    "\"\"\"\n",
    "tests.test_one_hot_encode(one_hot_encode)"
   ]
  },
  {
   "cell_type": "markdown",
   "metadata": {
    "deletable": true,
    "editable": true
   },
   "source": [
    "### Randomize Data\n",
    "As you saw from exploring the data above, the order of the samples are randomized.  It doesn't hurt to randomize it again, but you don't need to for this dataset."
   ]
  },
  {
   "cell_type": "markdown",
   "metadata": {
    "deletable": true,
    "editable": true
   },
   "source": [
    "## Preprocess all the data and save it\n",
    "Running the code cell below will preprocess all the CIFAR-10 data and save it to file. The code below also uses 10% of the training data for validation."
   ]
  },
  {
   "cell_type": "code",
   "execution_count": 112,
   "metadata": {
    "collapsed": false,
    "deletable": true,
    "editable": true
   },
   "outputs": [],
   "source": [
    "\"\"\"\n",
    "DON'T MODIFY ANYTHING IN THIS CELL\n",
    "\"\"\"\n",
    "# Preprocess Training, Validation, and Testing Data\n",
    "helper.preprocess_and_save_data(cifar10_dataset_folder_path, normalize, one_hot_encode)"
   ]
  },
  {
   "cell_type": "markdown",
   "metadata": {
    "deletable": true,
    "editable": true
   },
   "source": [
    "# Check Point\n",
    "This is your first checkpoint.  If you ever decide to come back to this notebook or have to restart the notebook, you can start from here.  The preprocessed data has been saved to disk."
   ]
  },
  {
   "cell_type": "code",
   "execution_count": 113,
   "metadata": {
    "collapsed": true,
    "deletable": true,
    "editable": true
   },
   "outputs": [],
   "source": [
    "\"\"\"\n",
    "DON'T MODIFY ANYTHING IN THIS CELL\n",
    "\"\"\"\n",
    "import pickle\n",
    "import problem_unittests as tests\n",
    "import helper\n",
    "\n",
    "# Load the Preprocessed Validation data\n",
    "valid_features, valid_labels = pickle.load(open('preprocess_validation.p', mode='rb'))"
   ]
  },
  {
   "cell_type": "markdown",
   "metadata": {
    "deletable": true,
    "editable": true
   },
   "source": [
    "## Build the network\n",
    "For the neural network, you'll build each layer into a function.  Most of the code you've seen has been outside of functions. To test your code more thoroughly, we require that you put each layer in a function.  This allows us to give you better feedback and test for simple mistakes using our unittests before you submit your project.\n",
    "\n",
    ">**Note:** If you're finding it hard to dedicate enough time for this course each week, we've provided a small shortcut to this part of the project. In the next couple of problems, you'll have the option to use classes from the [TensorFlow Layers](https://www.tensorflow.org/api_docs/python/tf/layers) or [TensorFlow Layers (contrib)](https://www.tensorflow.org/api_guides/python/contrib.layers) packages to build each layer, except the layers you build in the \"Convolutional and Max Pooling Layer\" section.  TF Layers is similar to Keras's and TFLearn's abstraction to layers, so it's easy to pickup.\n",
    "\n",
    ">However, if you would like to get the most out of this course, try to solve all the problems _without_ using anything from the TF Layers packages. You **can** still use classes from other packages that happen to have the same name as ones you find in TF Layers! For example, instead of using the TF Layers version of the `conv2d` class, [tf.layers.conv2d](https://www.tensorflow.org/api_docs/python/tf/layers/conv2d), you would want to use the TF Neural Network version of `conv2d`, [tf.nn.conv2d](https://www.tensorflow.org/api_docs/python/tf/nn/conv2d). \n",
    "\n",
    "Let's begin!\n",
    "\n",
    "### Input\n",
    "The neural network needs to read the image data, one-hot encoded labels, and dropout keep probability. Implement the following functions\n",
    "* Implement `neural_net_image_input`\n",
    " * Return a [TF Placeholder](https://www.tensorflow.org/api_docs/python/tf/placeholder)\n",
    " * Set the shape using `image_shape` with batch size set to `None`.\n",
    " * Name the TensorFlow placeholder \"x\" using the TensorFlow `name` parameter in the [TF Placeholder](https://www.tensorflow.org/api_docs/python/tf/placeholder).\n",
    "* Implement `neural_net_label_input`\n",
    " * Return a [TF Placeholder](https://www.tensorflow.org/api_docs/python/tf/placeholder)\n",
    " * Set the shape using `n_classes` with batch size set to `None`.\n",
    " * Name the TensorFlow placeholder \"y\" using the TensorFlow `name` parameter in the [TF Placeholder](https://www.tensorflow.org/api_docs/python/tf/placeholder).\n",
    "* Implement `neural_net_keep_prob_input`\n",
    " * Return a [TF Placeholder](https://www.tensorflow.org/api_docs/python/tf/placeholder) for dropout keep probability.\n",
    " * Name the TensorFlow placeholder \"keep_prob\" using the TensorFlow `name` parameter in the [TF Placeholder](https://www.tensorflow.org/api_docs/python/tf/placeholder).\n",
    "\n",
    "These names will be used at the end of the project to load your saved model.\n",
    "\n",
    "Note: `None` for shapes in TensorFlow allow for a dynamic size."
   ]
  },
  {
   "cell_type": "code",
   "execution_count": 114,
   "metadata": {
    "collapsed": false,
    "deletable": true,
    "editable": true
   },
   "outputs": [
    {
     "name": "stdout",
     "output_type": "stream",
     "text": [
      "Image Input Tests Passed.\n",
      "Label Input Tests Passed.\n",
      "Keep Prob Tests Passed.\n"
     ]
    }
   ],
   "source": [
    "import tensorflow as tf\n",
    "\n",
    "def neural_net_image_input(image_shape):\n",
    "    \"\"\"\n",
    "    Return a Tensor for a bach of image input\n",
    "    : image_shape: Shape of the images\n",
    "    : return: Tensor for image input.\n",
    "    \"\"\"\n",
    "    # TODO: Implement Function\n",
    "    return tf.placeholder(tf.float32, (None, image_shape[0], image_shape[1], image_shape[2]), name='x')\n",
    "\n",
    "\n",
    "def neural_net_label_input(n_classes):\n",
    "    \"\"\"\n",
    "    Return a Tensor for a batch of label input\n",
    "    : n_classes: Number of classes\n",
    "    : return: Tensor for label input.\n",
    "    \"\"\"\n",
    "    # TODO: Implement Function\n",
    "    return tf.placeholder(tf.float32, (None, n_classes), name='y')\n",
    "\n",
    "\n",
    "def neural_net_keep_prob_input():\n",
    "    \"\"\"\n",
    "    Return a Tensor for keep probability\n",
    "    : return: Tensor for keep probability.\n",
    "    \"\"\"\n",
    "    # TODO: Implement Function\n",
    "    return tf.placeholder(tf.float32, name='keep_prob')\n",
    "\n",
    "\n",
    "\"\"\"\n",
    "DON'T MODIFY ANYTHING IN THIS CELL THAT IS BELOW THIS LINE\n",
    "\"\"\"\n",
    "tf.reset_default_graph()\n",
    "tests.test_nn_image_inputs(neural_net_image_input)\n",
    "tests.test_nn_label_inputs(neural_net_label_input)\n",
    "tests.test_nn_keep_prob_inputs(neural_net_keep_prob_input)"
   ]
  },
  {
   "cell_type": "markdown",
   "metadata": {
    "deletable": true,
    "editable": true
   },
   "source": [
    "### Convolution and Max Pooling Layer\n",
    "Convolution layers have a lot of success with images. For this code cell, you should implement the function `conv2d_maxpool` to apply convolution then max pooling:\n",
    "* Create the weight and bias using `conv_ksize`, `conv_num_outputs` and the shape of `x_tensor`.\n",
    "* Apply a convolution to `x_tensor` using weight and `conv_strides`.\n",
    " * We recommend you use same padding, but you're welcome to use any padding.\n",
    "* Add bias\n",
    "* Add a nonlinear activation to the convolution.\n",
    "* Apply Max Pooling using `pool_ksize` and `pool_strides`.\n",
    " * We recommend you use same padding, but you're welcome to use any padding.\n",
    "\n",
    "**Note:** You **can't** use [TensorFlow Layers](https://www.tensorflow.org/api_docs/python/tf/layers) or [TensorFlow Layers (contrib)](https://www.tensorflow.org/api_guides/python/contrib.layers) for **this** layer, but you can still use TensorFlow's [Neural Network](https://www.tensorflow.org/api_docs/python/tf/nn) package. You may still use the shortcut option for all the **other** layers."
   ]
  },
  {
   "cell_type": "code",
   "execution_count": 115,
   "metadata": {
    "collapsed": false,
    "deletable": true,
    "editable": true
   },
   "outputs": [
    {
     "name": "stdout",
     "output_type": "stream",
     "text": [
      "Tests Passed\n"
     ]
    }
   ],
   "source": [
    "def conv2d_maxpool(x_tensor, conv_num_outputs, conv_ksize, conv_strides, pool_ksize, pool_strides):\n",
    "    \"\"\"\n",
    "    Apply convolution then max pooling to x_tensor\n",
    "    :param x_tensor: TensorFlow Tensor\n",
    "    :param conv_num_outputs: Number of outputs for the convolutional layer\n",
    "    :param conv_ksize: kernal size 2-D Tuple for the convolutional layer\n",
    "    :param conv_strides: Stride 2-D Tuple for convolution\n",
    "    :param pool_ksize: kernal size 2-D Tuple for pool\n",
    "    :param pool_strides: Stride 2-D Tuple for pool\n",
    "    : return: A tensor that represents convolution and max pooling of x_tensor\n",
    "    \"\"\"\n",
    "       \n",
    "    # weights_shape = list(conv_ksize) + [x_tensor.get_shape().as_list()[3], conv_num_outputs]\n",
    "    \n",
    "    weights = tf.Variable(tf.truncated_normal([conv_ksize[0], conv_ksize[1],\n",
    "                                            x_tensor.get_shape().as_list()[3], conv_num_outputs], stddev=0.05, mean=0))\n",
    "    \n",
    "    biases = tf.Variable(tf.zeros(conv_num_outputs))\n",
    "    \n",
    "    output = tf.nn.conv2d(x_tensor, weights, strides=[1, *conv_strides, 1], padding='SAME')\n",
    "    output = tf.nn.bias_add(output, biases)\n",
    "    output = tf.nn.relu(output)\n",
    "    output = tf.nn.max_pool(output, ksize=[1, *pool_ksize, 1], strides=[1, *pool_strides, 1], padding='SAME')\n",
    "\n",
    "    return output\n",
    "\n",
    "\"\"\"\n",
    "DON'T MODIFY ANYTHING IN THIS CELL THAT IS BELOW THIS LINE\n",
    "\"\"\"\n",
    "tests.test_con_pool(conv2d_maxpool)"
   ]
  },
  {
   "cell_type": "markdown",
   "metadata": {
    "deletable": true,
    "editable": true
   },
   "source": [
    "### Flatten Layer\n",
    "Implement the `flatten` function to change the dimension of `x_tensor` from a 4-D tensor to a 2-D tensor.  The output should be the shape (*Batch Size*, *Flattened Image Size*). Shortcut option: you can use classes from the [TensorFlow Layers](https://www.tensorflow.org/api_docs/python/tf/layers) or [TensorFlow Layers (contrib)](https://www.tensorflow.org/api_guides/python/contrib.layers) packages for this layer. For more of a challenge, only use other TensorFlow packages."
   ]
  },
  {
   "cell_type": "code",
   "execution_count": 116,
   "metadata": {
    "collapsed": false,
    "deletable": true,
    "editable": true
   },
   "outputs": [
    {
     "name": "stdout",
     "output_type": "stream",
     "text": [
      "Tests Passed\n"
     ]
    }
   ],
   "source": [
    "def flatten(x_tensor):\n",
    "    \"\"\"\n",
    "    Flatten x_tensor to (Batch Size, Flattened Image Size)\n",
    "    : x_tensor: A tensor of size (Batch Size, ...), where ... are the image dimensions.\n",
    "    : return: A tensor of size (Batch Size, Flattened Image Size).\n",
    "    \"\"\"\n",
    "    # TODO: Implement Function\n",
    "    return tf.contrib.layers.flatten(x_tensor)\n",
    "\n",
    "\n",
    "\"\"\"\n",
    "DON'T MODIFY ANYTHING IN THIS CELL THAT IS BELOW THIS LINE\n",
    "\"\"\"\n",
    "tests.test_flatten(flatten)"
   ]
  },
  {
   "cell_type": "markdown",
   "metadata": {
    "deletable": true,
    "editable": true
   },
   "source": [
    "### Fully-Connected Layer\n",
    "Implement the `fully_conn` function to apply a fully connected layer to `x_tensor` with the shape (*Batch Size*, *num_outputs*). Shortcut option: you can use classes from the [TensorFlow Layers](https://www.tensorflow.org/api_docs/python/tf/layers) or [TensorFlow Layers (contrib)](https://www.tensorflow.org/api_guides/python/contrib.layers) packages for this layer. For more of a challenge, only use other TensorFlow packages."
   ]
  },
  {
   "cell_type": "code",
   "execution_count": 117,
   "metadata": {
    "collapsed": false,
    "deletable": true,
    "editable": true
   },
   "outputs": [
    {
     "name": "stdout",
     "output_type": "stream",
     "text": [
      "Tests Passed\n"
     ]
    }
   ],
   "source": [
    "def fully_conn(x_tensor, num_outputs):\n",
    "    \"\"\"\n",
    "    Apply a fully connected layer to x_tensor using weight and bias\n",
    "    : x_tensor: A 2-D tensor where the first dimension is batch size.\n",
    "    : num_outputs: The number of output that the new tensor should be.\n",
    "    : return: A 2-D tensor where the second dimension is num_outputs.\n",
    "    \"\"\"\n",
    "    # TODO: Implement Function\n",
    "    return tf.contrib.layers.fully_connected(inputs = x_tensor, num_outputs = num_outputs)\n",
    "\n",
    "\n",
    "\"\"\"\n",
    "DON'T MODIFY ANYTHING IN THIS CELL THAT IS BELOW THIS LINE\n",
    "\"\"\"\n",
    "tests.test_fully_conn(fully_conn)"
   ]
  },
  {
   "cell_type": "markdown",
   "metadata": {
    "deletable": true,
    "editable": true
   },
   "source": [
    "### Output Layer\n",
    "Implement the `output` function to apply a fully connected layer to `x_tensor` with the shape (*Batch Size*, *num_outputs*). Shortcut option: you can use classes from the [TensorFlow Layers](https://www.tensorflow.org/api_docs/python/tf/layers) or [TensorFlow Layers (contrib)](https://www.tensorflow.org/api_guides/python/contrib.layers) packages for this layer. For more of a challenge, only use other TensorFlow packages.\n",
    "\n",
    "**Note:** Activation, softmax, or cross entropy should **not** be applied to this."
   ]
  },
  {
   "cell_type": "code",
   "execution_count": 118,
   "metadata": {
    "collapsed": false,
    "deletable": true,
    "editable": true
   },
   "outputs": [
    {
     "name": "stdout",
     "output_type": "stream",
     "text": [
      "Tests Passed\n"
     ]
    }
   ],
   "source": [
    "def output(x_tensor, num_outputs):\n",
    "    \"\"\"\n",
    "    Apply a output layer to x_tensor using weight and bias\n",
    "    : x_tensor: A 2-D tensor where the first dimension is batch size.\n",
    "    : num_outputs: The number of output that the new tensor should be.\n",
    "    : return: A 2-D tensor where the second dimension is num_outputs.\n",
    "    \"\"\"\n",
    "    # TODO: Implement Function\n",
    "    return tf.contrib.layers.fully_connected(inputs = x_tensor, num_outputs = num_outputs, activation_fn = None)\n",
    "\n",
    "\n",
    "\"\"\"\n",
    "DON'T MODIFY ANYTHING IN THIS CELL THAT IS BELOW THIS LINE\n",
    "\"\"\"\n",
    "tests.test_output(output)"
   ]
  },
  {
   "cell_type": "markdown",
   "metadata": {
    "deletable": true,
    "editable": true
   },
   "source": [
    "### Create Convolutional Model\n",
    "Implement the function `conv_net` to create a convolutional neural network model. The function takes in a batch of images, `x`, and outputs logits.  Use the layers you created above to create this model:\n",
    "\n",
    "* Apply 1, 2, or 3 Convolution and Max Pool layers\n",
    "* Apply a Flatten Layer\n",
    "* Apply 1, 2, or 3 Fully Connected Layers\n",
    "* Apply an Output Layer\n",
    "* Return the output\n",
    "* Apply [TensorFlow's Dropout](https://www.tensorflow.org/api_docs/python/tf/nn/dropout) to one or more layers in the model using `keep_prob`. "
   ]
  },
  {
   "cell_type": "code",
   "execution_count": 131,
   "metadata": {
    "collapsed": false,
    "deletable": true,
    "editable": true
   },
   "outputs": [
    {
     "name": "stdout",
     "output_type": "stream",
     "text": [
      "Neural Network Built!\n"
     ]
    }
   ],
   "source": [
    "def conv_net(x, keep_prob):\n",
    "    \"\"\"\n",
    "    Create a convolutional neural network model\n",
    "    : x: Placeholder tensor that holds image data.\n",
    "    : keep_prob: Placeholder tensor that hold dropout keep probability.\n",
    "    : return: Tensor that represents logits\n",
    "    \"\"\"\n",
    "    # TODO: Apply 1, 2, or 3 Convolution and Max Pool layers\n",
    "    #    Play around with different number of outputs, kernel size and stride\n",
    "    # Function Definition from Above:\n",
    "    #    conv2d_maxpool(x_tensor, conv_num_outputs, conv_ksize, conv_strides, pool_ksize, pool_strides)\n",
    "    conv = conv2d_maxpool(x, conv_num_outputs=64, conv_ksize=[3,3], conv_strides=[1,1], pool_ksize=[2,2], pool_strides=[2,2])\n",
    "    conv2 = conv2d_maxpool(conv, conv_num_outputs=64, conv_ksize=[3,3], conv_strides=[1,1], pool_ksize=[2,2], pool_strides=[2,2])\n",
    "    conv3 = conv2d_maxpool(conv2, conv_num_outputs=128, conv_ksize=[3,3], conv_strides=[1,1], pool_ksize=[2,2], pool_strides=[2,2])\n",
    "\n",
    "    \n",
    "    # TODO: Apply a Flatten Layer\n",
    "    # Function Definition from Above:\n",
    "    #   flatten(x_tensor)\n",
    "    fll = flatten(conv3)\n",
    "\n",
    "    # TODO: Apply 1, 2, or 3 Fully Connected Layers\n",
    "    #    Play around with different number of outputs\n",
    "    # Function Definition from Above:\n",
    "    #   fully_conn(x_tensor, num_outputs)\n",
    "    fcl1 = fully_conn(fll, 128)\n",
    "    \n",
    "    # Dropout\n",
    "    fcl1 = tf.nn.dropout(fcl1, keep_prob)\n",
    "    \n",
    "    fcl2 = fully_conn(fcl1, 64)\n",
    "    fcl3 = fully_conn(fcl1, 128)\n",
    "        \n",
    "    # TODO: Apply an Output Layer\n",
    "    #    Set this to the number of classes\n",
    "    # Function Definition from Above:\n",
    "    #   output(x_tensor, num_outputs)\n",
    "    # TODO: return output\n",
    "    return output(fcl2, 10)\n",
    "\n",
    "\n",
    "\"\"\"\n",
    "DON'T MODIFY ANYTHING IN THIS CELL THAT IS BELOW THIS LINE\n",
    "\"\"\"\n",
    "\n",
    "##############################\n",
    "## Build the Neural Network ##\n",
    "##############################\n",
    "\n",
    "# Remove previous weights, bias, inputs, etc..\n",
    "tf.reset_default_graph()\n",
    "\n",
    "# Inputs\n",
    "x = neural_net_image_input((32, 32, 3))\n",
    "y = neural_net_label_input(10)\n",
    "keep_prob = neural_net_keep_prob_input()\n",
    "\n",
    "# Model\n",
    "logits = conv_net(x, keep_prob)\n",
    "\n",
    "# Name logits Tensor, so that is can be loaded from disk after training\n",
    "logits = tf.identity(logits, name='logits')\n",
    "\n",
    "# Loss and Optimizer\n",
    "cost = tf.reduce_mean(tf.nn.softmax_cross_entropy_with_logits(logits=logits, labels=y))\n",
    "optimizer = tf.train.AdamOptimizer().minimize(cost)\n",
    "\n",
    "# Accuracy\n",
    "correct_pred = tf.equal(tf.argmax(logits, 1), tf.argmax(y, 1))\n",
    "accuracy = tf.reduce_mean(tf.cast(correct_pred, tf.float32), name='accuracy')\n",
    "\n",
    "tests.test_conv_net(conv_net)"
   ]
  },
  {
   "cell_type": "markdown",
   "metadata": {
    "deletable": true,
    "editable": true
   },
   "source": [
    "## Train the Neural Network\n",
    "### Single Optimization\n",
    "Implement the function `train_neural_network` to do a single optimization.  The optimization should use `optimizer` to optimize in `session` with a `feed_dict` of the following:\n",
    "* `x` for image input\n",
    "* `y` for labels\n",
    "* `keep_prob` for keep probability for dropout\n",
    "\n",
    "This function will be called for each batch, so `tf.global_variables_initializer()` has already been called.\n",
    "\n",
    "Note: Nothing needs to be returned. This function is only optimizing the neural network."
   ]
  },
  {
   "cell_type": "code",
   "execution_count": 132,
   "metadata": {
    "collapsed": false,
    "deletable": true,
    "editable": true
   },
   "outputs": [
    {
     "name": "stdout",
     "output_type": "stream",
     "text": [
      "Tests Passed\n"
     ]
    }
   ],
   "source": [
    "def train_neural_network(session, optimizer, keep_probability, feature_batch, label_batch):\n",
    "    \"\"\"\n",
    "    Optimize the session on a batch of images and labels\n",
    "    : session: Current TensorFlow session\n",
    "    : optimizer: TensorFlow optimizer function\n",
    "    : keep_probability: keep probability\n",
    "    : feature_batch: Batch of Numpy image data\n",
    "    : label_batch: Batch of Numpy label data\n",
    "    \"\"\"\n",
    "    # TODO: Implement Function\n",
    "    session.run(optimizer, feed_dict={x: feature_batch, y: label_batch, keep_prob: keep_probability})\n",
    "\n",
    "\n",
    "\"\"\"\n",
    "DON'T MODIFY ANYTHING IN THIS CELL THAT IS BELOW THIS LINE\n",
    "\"\"\"\n",
    "tests.test_train_nn(train_neural_network)"
   ]
  },
  {
   "cell_type": "markdown",
   "metadata": {
    "deletable": true,
    "editable": true
   },
   "source": [
    "### Show Stats\n",
    "Implement the function `print_stats` to print loss and validation accuracy.  Use the global variables `valid_features` and `valid_labels` to calculate validation accuracy.  Use a keep probability of `1.0` to calculate the loss and validation accuracy."
   ]
  },
  {
   "cell_type": "code",
   "execution_count": 133,
   "metadata": {
    "collapsed": false,
    "deletable": true,
    "editable": true
   },
   "outputs": [],
   "source": [
    "def print_stats(session, feature_batch, label_batch, cost, accuracy):\n",
    "    \"\"\"\n",
    "    Print information about loss and validation accuracy\n",
    "    : session: Current TensorFlow session\n",
    "    : feature_batch: Batch of Numpy image data\n",
    "    : label_batch: Batch of Numpy label data\n",
    "    : cost: TensorFlow cost function\n",
    "    : accuracy: TensorFlow accuracy function\n",
    "    \"\"\"\n",
    "    # TODO: Implement Function\n",
    "    loss = session.run(cost, feed_dict={\n",
    "                x: feature_batch,\n",
    "                y: label_batch,\n",
    "                keep_prob: 1.})\n",
    "    valid_acc = sess.run(accuracy, feed_dict={\n",
    "                x: valid_features,\n",
    "                y: valid_labels,\n",
    "                keep_prob: 1.})\n",
    "\n",
    "    print('Loss: {:>10.4f} Validation Accuracy: {:.6f}'.format(\n",
    "                loss,\n",
    "                valid_acc))\n"
   ]
  },
  {
   "cell_type": "markdown",
   "metadata": {
    "deletable": true,
    "editable": true
   },
   "source": [
    "### Hyperparameters\n",
    "Tune the following parameters:\n",
    "* Set `epochs` to the number of iterations until the network stops learning or start overfitting\n",
    "* Set `batch_size` to the highest number that your machine has memory for.  Most people set them to common sizes of memory:\n",
    " * 64\n",
    " * 128\n",
    " * 256\n",
    " * ...\n",
    "* Set `keep_probability` to the probability of keeping a node using dropout"
   ]
  },
  {
   "cell_type": "code",
   "execution_count": 138,
   "metadata": {
    "collapsed": true,
    "deletable": true,
    "editable": true
   },
   "outputs": [],
   "source": [
    "# TODO: Tune Parameters\n",
    "epochs = 30\n",
    "batch_size = 1024\n",
    "keep_probability = .5"
   ]
  },
  {
   "cell_type": "markdown",
   "metadata": {
    "deletable": true,
    "editable": true
   },
   "source": [
    "### Train on a Single CIFAR-10 Batch\n",
    "Instead of training the neural network on all the CIFAR-10 batches of data, let's use a single batch. This should save time while you iterate on the model to get a better accuracy.  Once the final validation accuracy is 50% or greater, run the model on all the data in the next section."
   ]
  },
  {
   "cell_type": "code",
   "execution_count": 139,
   "metadata": {
    "collapsed": false,
    "deletable": true,
    "editable": true
   },
   "outputs": [
    {
     "name": "stdout",
     "output_type": "stream",
     "text": [
      "Checking the Training on a Single Batch...\n",
      "Epoch  1, CIFAR-10 Batch 1:  Loss:     2.2435 Validation Accuracy: 0.202400\n",
      "Epoch  2, CIFAR-10 Batch 1:  Loss:     2.0692 Validation Accuracy: 0.272200\n",
      "Epoch  3, CIFAR-10 Batch 1:  Loss:     1.9158 Validation Accuracy: 0.321600\n",
      "Epoch  4, CIFAR-10 Batch 1:  Loss:     1.8251 Validation Accuracy: 0.359400\n",
      "Epoch  5, CIFAR-10 Batch 1:  Loss:     1.7532 Validation Accuracy: 0.376400\n",
      "Epoch  6, CIFAR-10 Batch 1:  Loss:     1.6890 Validation Accuracy: 0.389600\n",
      "Epoch  7, CIFAR-10 Batch 1:  Loss:     1.6482 Validation Accuracy: 0.400800\n",
      "Epoch  8, CIFAR-10 Batch 1:  Loss:     1.5713 Validation Accuracy: 0.424600\n",
      "Epoch  9, CIFAR-10 Batch 1:  Loss:     1.5904 Validation Accuracy: 0.414400\n",
      "Epoch 10, CIFAR-10 Batch 1:  Loss:     1.4840 Validation Accuracy: 0.448800\n",
      "Epoch 11, CIFAR-10 Batch 1:  Loss:     1.4673 Validation Accuracy: 0.449800\n",
      "Epoch 12, CIFAR-10 Batch 1:  Loss:     1.3932 Validation Accuracy: 0.467600\n",
      "Epoch 13, CIFAR-10 Batch 1:  Loss:     1.3715 Validation Accuracy: 0.479000\n",
      "Epoch 14, CIFAR-10 Batch 1:  Loss:     1.3266 Validation Accuracy: 0.485000\n",
      "Epoch 15, CIFAR-10 Batch 1:  Loss:     1.3302 Validation Accuracy: 0.484600\n",
      "Epoch 16, CIFAR-10 Batch 1:  Loss:     1.3314 Validation Accuracy: 0.482800\n",
      "Epoch 17, CIFAR-10 Batch 1:  Loss:     1.2984 Validation Accuracy: 0.492600\n",
      "Epoch 18, CIFAR-10 Batch 1:  Loss:     1.2630 Validation Accuracy: 0.498800\n",
      "Epoch 19, CIFAR-10 Batch 1:  Loss:     1.2301 Validation Accuracy: 0.509200\n",
      "Epoch 20, CIFAR-10 Batch 1:  Loss:     1.1705 Validation Accuracy: 0.522000\n",
      "Epoch 21, CIFAR-10 Batch 1:  Loss:     1.1465 Validation Accuracy: 0.537000\n",
      "Epoch 22, CIFAR-10 Batch 1:  Loss:     1.1332 Validation Accuracy: 0.536400\n",
      "Epoch 23, CIFAR-10 Batch 1:  Loss:     1.1124 Validation Accuracy: 0.538400\n",
      "Epoch 24, CIFAR-10 Batch 1:  Loss:     1.1082 Validation Accuracy: 0.531400\n",
      "Epoch 25, CIFAR-10 Batch 1:  Loss:     1.0888 Validation Accuracy: 0.538400\n",
      "Epoch 26, CIFAR-10 Batch 1:  Loss:     1.0903 Validation Accuracy: 0.528000\n",
      "Epoch 27, CIFAR-10 Batch 1:  Loss:     1.0462 Validation Accuracy: 0.552000\n",
      "Epoch 28, CIFAR-10 Batch 1:  Loss:     1.0308 Validation Accuracy: 0.554400\n",
      "Epoch 29, CIFAR-10 Batch 1:  Loss:     1.0020 Validation Accuracy: 0.557200\n",
      "Epoch 30, CIFAR-10 Batch 1:  Loss:     0.9873 Validation Accuracy: 0.548800\n"
     ]
    }
   ],
   "source": [
    "\"\"\"\n",
    "DON'T MODIFY ANYTHING IN THIS CELL\n",
    "\"\"\"\n",
    "print('Checking the Training on a Single Batch...')\n",
    "with tf.Session() as sess:\n",
    "    # Initializing the variables\n",
    "    sess.run(tf.global_variables_initializer())\n",
    "    \n",
    "    # Training cycle\n",
    "    for epoch in range(epochs):\n",
    "        batch_i = 1\n",
    "        for batch_features, batch_labels in helper.load_preprocess_training_batch(batch_i, batch_size):\n",
    "            train_neural_network(sess, optimizer, keep_probability, batch_features, batch_labels)\n",
    "        print('Epoch {:>2}, CIFAR-10 Batch {}:  '.format(epoch + 1, batch_i), end='')\n",
    "        print_stats(sess, batch_features, batch_labels, cost, accuracy)"
   ]
  },
  {
   "cell_type": "markdown",
   "metadata": {
    "deletable": true,
    "editable": true
   },
   "source": [
    "### Fully Train the Model\n",
    "Now that you got a good accuracy with a single CIFAR-10 batch, try it with all five batches."
   ]
  },
  {
   "cell_type": "code",
   "execution_count": 140,
   "metadata": {
    "collapsed": false,
    "deletable": true,
    "editable": true
   },
   "outputs": [
    {
     "name": "stdout",
     "output_type": "stream",
     "text": [
      "Training...\n",
      "Epoch  1, CIFAR-10 Batch 1:  Loss:     2.1940 Validation Accuracy: 0.184200\n",
      "Epoch  1, CIFAR-10 Batch 2:  Loss:     2.0261 Validation Accuracy: 0.261400\n",
      "Epoch  1, CIFAR-10 Batch 3:  Loss:     1.9146 Validation Accuracy: 0.291400\n",
      "Epoch  1, CIFAR-10 Batch 4:  Loss:     1.8463 Validation Accuracy: 0.317600\n",
      "Epoch  1, CIFAR-10 Batch 5:  Loss:     1.7630 Validation Accuracy: 0.363000\n",
      "Epoch  2, CIFAR-10 Batch 1:  Loss:     1.7023 Validation Accuracy: 0.375600\n",
      "Epoch  2, CIFAR-10 Batch 2:  Loss:     1.6869 Validation Accuracy: 0.391600\n",
      "Epoch  2, CIFAR-10 Batch 3:  Loss:     1.5610 Validation Accuracy: 0.414200\n",
      "Epoch  2, CIFAR-10 Batch 4:  Loss:     1.5586 Validation Accuracy: 0.422200\n",
      "Epoch  2, CIFAR-10 Batch 5:  Loss:     1.5453 Validation Accuracy: 0.418400\n",
      "Epoch  3, CIFAR-10 Batch 1:  Loss:     1.4918 Validation Accuracy: 0.447600\n",
      "Epoch  3, CIFAR-10 Batch 2:  Loss:     1.5089 Validation Accuracy: 0.448000\n",
      "Epoch  3, CIFAR-10 Batch 3:  Loss:     1.3982 Validation Accuracy: 0.464400\n",
      "Epoch  3, CIFAR-10 Batch 4:  Loss:     1.4086 Validation Accuracy: 0.468400\n",
      "Epoch  3, CIFAR-10 Batch 5:  Loss:     1.4013 Validation Accuracy: 0.479600\n",
      "Epoch  4, CIFAR-10 Batch 1:  Loss:     1.3441 Validation Accuracy: 0.501800\n",
      "Epoch  4, CIFAR-10 Batch 2:  Loss:     1.3883 Validation Accuracy: 0.483800\n",
      "Epoch  4, CIFAR-10 Batch 3:  Loss:     1.3229 Validation Accuracy: 0.483800\n",
      "Epoch  4, CIFAR-10 Batch 4:  Loss:     1.3024 Validation Accuracy: 0.507200\n",
      "Epoch  4, CIFAR-10 Batch 5:  Loss:     1.3022 Validation Accuracy: 0.516000\n",
      "Epoch  5, CIFAR-10 Batch 1:  Loss:     1.2894 Validation Accuracy: 0.516800\n",
      "Epoch  5, CIFAR-10 Batch 2:  Loss:     1.3145 Validation Accuracy: 0.502400\n",
      "Epoch  5, CIFAR-10 Batch 3:  Loss:     1.2187 Validation Accuracy: 0.528400\n",
      "Epoch  5, CIFAR-10 Batch 4:  Loss:     1.2248 Validation Accuracy: 0.535200\n",
      "Epoch  5, CIFAR-10 Batch 5:  Loss:     1.2229 Validation Accuracy: 0.549800\n",
      "Epoch  6, CIFAR-10 Batch 1:  Loss:     1.2063 Validation Accuracy: 0.547800\n",
      "Epoch  6, CIFAR-10 Batch 2:  Loss:     1.2153 Validation Accuracy: 0.555800\n",
      "Epoch  6, CIFAR-10 Batch 3:  Loss:     1.1485 Validation Accuracy: 0.554200\n",
      "Epoch  6, CIFAR-10 Batch 4:  Loss:     1.1554 Validation Accuracy: 0.559200\n",
      "Epoch  6, CIFAR-10 Batch 5:  Loss:     1.1483 Validation Accuracy: 0.572400\n",
      "Epoch  7, CIFAR-10 Batch 1:  Loss:     1.1549 Validation Accuracy: 0.564800\n",
      "Epoch  7, CIFAR-10 Batch 2:  Loss:     1.1414 Validation Accuracy: 0.579600\n",
      "Epoch  7, CIFAR-10 Batch 3:  Loss:     1.0897 Validation Accuracy: 0.568800\n",
      "Epoch  7, CIFAR-10 Batch 4:  Loss:     1.0976 Validation Accuracy: 0.570200\n",
      "Epoch  7, CIFAR-10 Batch 5:  Loss:     1.1021 Validation Accuracy: 0.577000\n",
      "Epoch  8, CIFAR-10 Batch 1:  Loss:     1.0792 Validation Accuracy: 0.587800\n",
      "Epoch  8, CIFAR-10 Batch 2:  Loss:     1.1107 Validation Accuracy: 0.585400\n",
      "Epoch  8, CIFAR-10 Batch 3:  Loss:     1.0291 Validation Accuracy: 0.588400\n",
      "Epoch  8, CIFAR-10 Batch 4:  Loss:     1.0438 Validation Accuracy: 0.592000\n",
      "Epoch  8, CIFAR-10 Batch 5:  Loss:     1.0332 Validation Accuracy: 0.603800\n",
      "Epoch  9, CIFAR-10 Batch 1:  Loss:     1.0378 Validation Accuracy: 0.596800\n",
      "Epoch  9, CIFAR-10 Batch 2:  Loss:     1.0510 Validation Accuracy: 0.601000\n",
      "Epoch  9, CIFAR-10 Batch 3:  Loss:     1.0018 Validation Accuracy: 0.603400\n",
      "Epoch  9, CIFAR-10 Batch 4:  Loss:     0.9869 Validation Accuracy: 0.609000\n",
      "Epoch  9, CIFAR-10 Batch 5:  Loss:     0.9703 Validation Accuracy: 0.616200\n",
      "Epoch 10, CIFAR-10 Batch 1:  Loss:     1.0155 Validation Accuracy: 0.609800\n",
      "Epoch 10, CIFAR-10 Batch 2:  Loss:     1.0058 Validation Accuracy: 0.618800\n",
      "Epoch 10, CIFAR-10 Batch 3:  Loss:     1.0135 Validation Accuracy: 0.593800\n",
      "Epoch 10, CIFAR-10 Batch 4:  Loss:     0.9574 Validation Accuracy: 0.622800\n",
      "Epoch 10, CIFAR-10 Batch 5:  Loss:     0.9284 Validation Accuracy: 0.632000\n",
      "Epoch 11, CIFAR-10 Batch 1:  Loss:     0.9565 Validation Accuracy: 0.631000\n",
      "Epoch 11, CIFAR-10 Batch 2:  Loss:     0.9539 Validation Accuracy: 0.633000\n",
      "Epoch 11, CIFAR-10 Batch 3:  Loss:     0.9048 Validation Accuracy: 0.631200\n",
      "Epoch 11, CIFAR-10 Batch 4:  Loss:     0.9151 Validation Accuracy: 0.627000\n",
      "Epoch 11, CIFAR-10 Batch 5:  Loss:     0.8818 Validation Accuracy: 0.640200\n",
      "Epoch 12, CIFAR-10 Batch 1:  Loss:     0.9264 Validation Accuracy: 0.631600\n",
      "Epoch 12, CIFAR-10 Batch 2:  Loss:     0.9167 Validation Accuracy: 0.641400\n",
      "Epoch 12, CIFAR-10 Batch 3:  Loss:     0.8875 Validation Accuracy: 0.636400\n",
      "Epoch 12, CIFAR-10 Batch 4:  Loss:     0.8644 Validation Accuracy: 0.648200\n",
      "Epoch 12, CIFAR-10 Batch 5:  Loss:     0.8507 Validation Accuracy: 0.652600\n",
      "Epoch 13, CIFAR-10 Batch 1:  Loss:     0.9132 Validation Accuracy: 0.643000\n",
      "Epoch 13, CIFAR-10 Batch 2:  Loss:     0.8891 Validation Accuracy: 0.646000\n",
      "Epoch 13, CIFAR-10 Batch 3:  Loss:     0.8574 Validation Accuracy: 0.653800\n",
      "Epoch 13, CIFAR-10 Batch 4:  Loss:     0.8186 Validation Accuracy: 0.655800\n",
      "Epoch 13, CIFAR-10 Batch 5:  Loss:     0.8121 Validation Accuracy: 0.654600\n",
      "Epoch 14, CIFAR-10 Batch 1:  Loss:     0.8723 Validation Accuracy: 0.657600\n",
      "Epoch 14, CIFAR-10 Batch 2:  Loss:     0.8863 Validation Accuracy: 0.647600\n",
      "Epoch 14, CIFAR-10 Batch 3:  Loss:     0.8517 Validation Accuracy: 0.646000\n",
      "Epoch 14, CIFAR-10 Batch 4:  Loss:     0.8100 Validation Accuracy: 0.662200\n",
      "Epoch 14, CIFAR-10 Batch 5:  Loss:     0.7949 Validation Accuracy: 0.665600\n",
      "Epoch 15, CIFAR-10 Batch 1:  Loss:     0.8370 Validation Accuracy: 0.668800\n",
      "Epoch 15, CIFAR-10 Batch 2:  Loss:     0.8019 Validation Accuracy: 0.676400\n",
      "Epoch 15, CIFAR-10 Batch 3:  Loss:     0.7878 Validation Accuracy: 0.670000\n",
      "Epoch 15, CIFAR-10 Batch 4:  Loss:     0.7770 Validation Accuracy: 0.672600\n",
      "Epoch 15, CIFAR-10 Batch 5:  Loss:     0.7668 Validation Accuracy: 0.667400\n",
      "Epoch 16, CIFAR-10 Batch 1:  Loss:     0.8060 Validation Accuracy: 0.673200\n",
      "Epoch 16, CIFAR-10 Batch 2:  Loss:     0.7838 Validation Accuracy: 0.681000\n",
      "Epoch 16, CIFAR-10 Batch 3:  Loss:     0.7643 Validation Accuracy: 0.670800\n",
      "Epoch 16, CIFAR-10 Batch 4:  Loss:     0.7322 Validation Accuracy: 0.680200\n",
      "Epoch 16, CIFAR-10 Batch 5:  Loss:     0.7052 Validation Accuracy: 0.687200\n",
      "Epoch 17, CIFAR-10 Batch 1:  Loss:     0.7733 Validation Accuracy: 0.684800\n",
      "Epoch 17, CIFAR-10 Batch 2:  Loss:     0.7491 Validation Accuracy: 0.689200\n",
      "Epoch 17, CIFAR-10 Batch 3:  Loss:     0.7228 Validation Accuracy: 0.685400\n",
      "Epoch 17, CIFAR-10 Batch 4:  Loss:     0.6962 Validation Accuracy: 0.691600\n",
      "Epoch 17, CIFAR-10 Batch 5:  Loss:     0.6738 Validation Accuracy: 0.694200\n",
      "Epoch 18, CIFAR-10 Batch 1:  Loss:     0.7594 Validation Accuracy: 0.676400\n",
      "Epoch 18, CIFAR-10 Batch 2:  Loss:     0.7259 Validation Accuracy: 0.694600\n",
      "Epoch 18, CIFAR-10 Batch 3:  Loss:     0.7068 Validation Accuracy: 0.686800\n",
      "Epoch 18, CIFAR-10 Batch 4:  Loss:     0.6785 Validation Accuracy: 0.702200\n",
      "Epoch 18, CIFAR-10 Batch 5:  Loss:     0.6558 Validation Accuracy: 0.690200\n",
      "Epoch 19, CIFAR-10 Batch 1:  Loss:     0.7141 Validation Accuracy: 0.697600\n",
      "Epoch 19, CIFAR-10 Batch 2:  Loss:     0.7146 Validation Accuracy: 0.694400\n",
      "Epoch 19, CIFAR-10 Batch 3:  Loss:     0.6636 Validation Accuracy: 0.703200\n",
      "Epoch 19, CIFAR-10 Batch 4:  Loss:     0.6495 Validation Accuracy: 0.700600\n",
      "Epoch 19, CIFAR-10 Batch 5:  Loss:     0.6308 Validation Accuracy: 0.701600\n",
      "Epoch 20, CIFAR-10 Batch 1:  Loss:     0.6961 Validation Accuracy: 0.699200\n",
      "Epoch 20, CIFAR-10 Batch 2:  Loss:     0.6889 Validation Accuracy: 0.692600\n",
      "Epoch 20, CIFAR-10 Batch 3:  Loss:     0.6497 Validation Accuracy: 0.703400\n",
      "Epoch 20, CIFAR-10 Batch 4:  Loss:     0.6300 Validation Accuracy: 0.711200\n",
      "Epoch 20, CIFAR-10 Batch 5:  Loss:     0.6221 Validation Accuracy: 0.705800\n",
      "Epoch 21, CIFAR-10 Batch 1:  Loss:     0.6790 Validation Accuracy: 0.700800\n",
      "Epoch 21, CIFAR-10 Batch 2:  Loss:     0.6690 Validation Accuracy: 0.704800\n",
      "Epoch 21, CIFAR-10 Batch 3:  Loss:     0.6454 Validation Accuracy: 0.706200\n",
      "Epoch 21, CIFAR-10 Batch 4:  Loss:     0.6006 Validation Accuracy: 0.715400\n",
      "Epoch 21, CIFAR-10 Batch 5:  Loss:     0.5885 Validation Accuracy: 0.705000\n",
      "Epoch 22, CIFAR-10 Batch 1:  Loss:     0.6735 Validation Accuracy: 0.693600\n",
      "Epoch 22, CIFAR-10 Batch 2:  Loss:     0.6467 Validation Accuracy: 0.712600\n",
      "Epoch 22, CIFAR-10 Batch 3:  Loss:     0.6143 Validation Accuracy: 0.705000\n",
      "Epoch 22, CIFAR-10 Batch 4:  Loss:     0.6159 Validation Accuracy: 0.705600\n",
      "Epoch 22, CIFAR-10 Batch 5:  Loss:     0.5728 Validation Accuracy: 0.708600\n",
      "Epoch 23, CIFAR-10 Batch 1:  Loss:     0.6343 Validation Accuracy: 0.707600\n",
      "Epoch 23, CIFAR-10 Batch 2:  Loss:     0.6082 Validation Accuracy: 0.716600\n",
      "Epoch 23, CIFAR-10 Batch 3:  Loss:     0.5803 Validation Accuracy: 0.715000\n",
      "Epoch 23, CIFAR-10 Batch 4:  Loss:     0.5668 Validation Accuracy: 0.722000\n",
      "Epoch 23, CIFAR-10 Batch 5:  Loss:     0.5491 Validation Accuracy: 0.712200\n",
      "Epoch 24, CIFAR-10 Batch 1:  Loss:     0.6386 Validation Accuracy: 0.703200\n",
      "Epoch 24, CIFAR-10 Batch 2:  Loss:     0.6087 Validation Accuracy: 0.713200\n",
      "Epoch 24, CIFAR-10 Batch 3:  Loss:     0.5652 Validation Accuracy: 0.722000\n",
      "Epoch 24, CIFAR-10 Batch 4:  Loss:     0.5605 Validation Accuracy: 0.722200\n",
      "Epoch 24, CIFAR-10 Batch 5:  Loss:     0.5181 Validation Accuracy: 0.716200\n",
      "Epoch 25, CIFAR-10 Batch 1:  Loss:     0.5898 Validation Accuracy: 0.715600\n",
      "Epoch 25, CIFAR-10 Batch 2:  Loss:     0.5753 Validation Accuracy: 0.724800\n",
      "Epoch 25, CIFAR-10 Batch 3:  Loss:     0.5419 Validation Accuracy: 0.717000\n",
      "Epoch 25, CIFAR-10 Batch 4:  Loss:     0.5739 Validation Accuracy: 0.710400\n",
      "Epoch 25, CIFAR-10 Batch 5:  Loss:     0.5129 Validation Accuracy: 0.712200\n",
      "Epoch 26, CIFAR-10 Batch 1:  Loss:     0.5883 Validation Accuracy: 0.712200\n",
      "Epoch 26, CIFAR-10 Batch 2:  Loss:     0.5453 Validation Accuracy: 0.722400\n",
      "Epoch 26, CIFAR-10 Batch 3:  Loss:     0.5161 Validation Accuracy: 0.723600\n",
      "Epoch 26, CIFAR-10 Batch 4:  Loss:     0.5127 Validation Accuracy: 0.722800\n",
      "Epoch 26, CIFAR-10 Batch 5:  Loss:     0.4922 Validation Accuracy: 0.721400\n",
      "Epoch 27, CIFAR-10 Batch 1:  Loss:     0.5287 Validation Accuracy: 0.727000\n",
      "Epoch 27, CIFAR-10 Batch 2:  Loss:     0.5382 Validation Accuracy: 0.719000\n",
      "Epoch 27, CIFAR-10 Batch 3:  Loss:     0.5028 Validation Accuracy: 0.725600\n",
      "Epoch 27, CIFAR-10 Batch 4:  Loss:     0.5048 Validation Accuracy: 0.723200\n",
      "Epoch 27, CIFAR-10 Batch 5:  Loss:     0.4653 Validation Accuracy: 0.716800\n",
      "Epoch 28, CIFAR-10 Batch 1:  Loss:     0.5568 Validation Accuracy: 0.718800\n",
      "Epoch 28, CIFAR-10 Batch 2:  Loss:     0.5271 Validation Accuracy: 0.716800\n",
      "Epoch 28, CIFAR-10 Batch 3:  Loss:     0.4928 Validation Accuracy: 0.728800\n",
      "Epoch 28, CIFAR-10 Batch 4:  Loss:     0.4759 Validation Accuracy: 0.726000\n",
      "Epoch 28, CIFAR-10 Batch 5:  Loss:     0.4634 Validation Accuracy: 0.725200\n",
      "Epoch 29, CIFAR-10 Batch 1:  Loss:     0.4970 Validation Accuracy: 0.728000\n",
      "Epoch 29, CIFAR-10 Batch 2:  Loss:     0.5072 Validation Accuracy: 0.731600\n",
      "Epoch 29, CIFAR-10 Batch 3:  Loss:     0.4796 Validation Accuracy: 0.720600\n",
      "Epoch 29, CIFAR-10 Batch 4:  Loss:     0.5103 Validation Accuracy: 0.725000\n",
      "Epoch 29, CIFAR-10 Batch 5:  Loss:     0.4372 Validation Accuracy: 0.727000\n",
      "Epoch 30, CIFAR-10 Batch 1:  Loss:     0.4941 Validation Accuracy: 0.729200\n",
      "Epoch 30, CIFAR-10 Batch 2:  Loss:     0.4841 Validation Accuracy: 0.737800\n",
      "Epoch 30, CIFAR-10 Batch 3:  Loss:     0.4619 Validation Accuracy: 0.727000\n",
      "Epoch 30, CIFAR-10 Batch 4:  Loss:     0.4741 Validation Accuracy: 0.727800\n",
      "Epoch 30, CIFAR-10 Batch 5:  Loss:     0.4290 Validation Accuracy: 0.727800\n"
     ]
    }
   ],
   "source": [
    "\"\"\"\n",
    "DON'T MODIFY ANYTHING IN THIS CELL\n",
    "\"\"\"\n",
    "save_model_path = './image_classification'\n",
    "\n",
    "print('Training...')\n",
    "with tf.Session() as sess:\n",
    "    # Initializing the variables\n",
    "    sess.run(tf.global_variables_initializer())\n",
    "    \n",
    "    # Training cycle\n",
    "    for epoch in range(epochs):\n",
    "        # Loop over all batches\n",
    "        n_batches = 5\n",
    "        for batch_i in range(1, n_batches + 1):\n",
    "            for batch_features, batch_labels in helper.load_preprocess_training_batch(batch_i, batch_size):\n",
    "                train_neural_network(sess, optimizer, keep_probability, batch_features, batch_labels)\n",
    "            print('Epoch {:>2}, CIFAR-10 Batch {}:  '.format(epoch + 1, batch_i), end='')\n",
    "            print_stats(sess, batch_features, batch_labels, cost, accuracy)\n",
    "            \n",
    "    # Save Model\n",
    "    saver = tf.train.Saver()\n",
    "    save_path = saver.save(sess, save_model_path)"
   ]
  },
  {
   "cell_type": "markdown",
   "metadata": {
    "deletable": true,
    "editable": true
   },
   "source": [
    "# Checkpoint\n",
    "The model has been saved to disk.\n",
    "## Test Model\n",
    "Test your model against the test dataset.  This will be your final accuracy. You should have an accuracy greater than 50%. If you don't, keep tweaking the model architecture and parameters."
   ]
  },
  {
   "cell_type": "code",
   "execution_count": 1,
   "metadata": {
    "collapsed": false,
    "deletable": true,
    "editable": true,
    "scrolled": true
   },
   "outputs": [
    {
     "name": "stdout",
     "output_type": "stream",
     "text": [
      "Testing Accuracy: 0.7317874203821656\n",
      "\n"
     ]
    },
    {
     "data": {
      "image/png": "[encoded data removed]",
      "text/plain": [
       "<matplotlib.figure.Figure at 0x7fd38dfebf28>"
      ]
     },
     "metadata": {
      "image/png": {
       "height": 319,
       "width": 355
      }
     },
     "output_type": "display_data"
    }
   ],
   "source": [
    "\"\"\"\n",
    "DON'T MODIFY ANYTHING IN THIS CELL\n",
    "\"\"\"\n",
    "%matplotlib inline\n",
    "%config InlineBackend.figure_format = 'retina'\n",
    "\n",
    "import tensorflow as tf\n",
    "import pickle\n",
    "import helper\n",
    "import random\n",
    "\n",
    "# Set batch size if not already set\n",
    "try:\n",
    "    if batch_size:\n",
    "        pass\n",
    "except NameError:\n",
    "    batch_size = 64\n",
    "\n",
    "save_model_path = './image_classification'\n",
    "n_samples = 4\n",
    "top_n_predictions = 3\n",
    "\n",
    "def test_model():\n",
    "    \"\"\"\n",
    "    Test the saved model against the test dataset\n",
    "    \"\"\"\n",
    "\n",
    "    test_features, test_labels = pickle.load(open('preprocess_training.p', mode='rb'))\n",
    "    loaded_graph = tf.Graph()\n",
    "\n",
    "    with tf.Session(graph=loaded_graph) as sess:\n",
    "        # Load model\n",
    "        loader = tf.train.import_meta_graph(save_model_path + '.meta')\n",
    "        loader.restore(sess, save_model_path)\n",
    "\n",
    "        # Get Tensors from loaded model\n",
    "        loaded_x = loaded_graph.get_tensor_by_name('x:0')\n",
    "        loaded_y = loaded_graph.get_tensor_by_name('y:0')\n",
    "        loaded_keep_prob = loaded_graph.get_tensor_by_name('keep_prob:0')\n",
    "        loaded_logits = loaded_graph.get_tensor_by_name('logits:0')\n",
    "        loaded_acc = loaded_graph.get_tensor_by_name('accuracy:0')\n",
    "        \n",
    "        # Get accuracy in batches for memory limitations\n",
    "        test_batch_acc_total = 0\n",
    "        test_batch_count = 0\n",
    "        \n",
    "        for train_feature_batch, train_label_batch in helper.batch_features_labels(test_features, test_labels, batch_size):\n",
    "            test_batch_acc_total += sess.run(\n",
    "                loaded_acc,\n",
    "                feed_dict={loaded_x: train_feature_batch, loaded_y: train_label_batch, loaded_keep_prob: 1.0})\n",
    "            test_batch_count += 1\n",
    "\n",
    "        print('Testing Accuracy: {}\\n'.format(test_batch_acc_total/test_batch_count))\n",
    "\n",
    "        # Print Random Samples\n",
    "        random_test_features, random_test_labels = tuple(zip(*random.sample(list(zip(test_features, test_labels)), n_samples)))\n",
    "        random_test_predictions = sess.run(\n",
    "            tf.nn.top_k(tf.nn.softmax(loaded_logits), top_n_predictions),\n",
    "            feed_dict={loaded_x: random_test_features, loaded_y: random_test_labels, loaded_keep_prob: 1.0})\n",
    "        helper.display_image_predictions(random_test_features, random_test_labels, random_test_predictions)\n",
    "\n",
    "\n",
    "test_model()"
   ]
  },
  {
   "cell_type": "markdown",
   "metadata": {
    "deletable": true,
    "editable": true
   },
   "source": [
    "## Why 50-70% Accuracy?\n",
    "You might be wondering why you can't get an accuracy any higher. First things first, 50% isn't bad for a simple CNN.  Pure guessing would get you 10% accuracy. However, you might notice people are getting scores [well above 70%](http://rodrigob.github.io/are_we_there_yet/build/classification_datasets_results.html#43494641522d3130).  That's because we haven't taught you all there is to know about neural networks. We still need to cover a few more techniques.\n",
    "## Submitting This Project\n",
    "When submitting this project, make sure to run all the cells before saving the notebook.  Save the notebook file as \"dlnd_image_classification.ipynb\" and save it as a HTML file under \"File\" -> \"Download as\".  Include the \"helper.py\" and \"problem_unittests.py\" files in your submission."
   ]
  }
 ],
 "metadata": {
  "anaconda-cloud": {},
  "kernelspec": {
   "display_name": "Python 3",
   "language": "python",
   "name": "python3"
  },
  "language_info": {
   "codemirror_mode": {
    "name": "ipython",
    "version": 3
   },
   "file_extension": ".py",
   "mimetype": "text/x-python",
   "name": "python",
   "nbconvert_exporter": "python",
   "pygments_lexer": "ipython3",
   "version": "3.5.2"
  },
  "widgets": {
   "state": {},
   "version": "1.1.2"
  }
 },
 "nbformat": 4,
 "nbformat_minor": 0
}
